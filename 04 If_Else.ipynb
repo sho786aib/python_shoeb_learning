{
 "cells": [
  {
   "cell_type": "code",
   "execution_count": 1,
   "metadata": {},
   "outputs": [
    {
     "name": "stdout",
     "output_type": "stream",
     "text": [
      "a is smallest....\n"
     ]
    }
   ],
   "source": [
    "a=10\n",
    "b=20\n",
    "\n",
    "if a<b:\n",
    "    print(\"a is smallest....\")\n",
    "else:\n",
    "    print(\"a is not smallest...\")"
   ]
  },
  {
   "cell_type": "code",
   "execution_count": 3,
   "metadata": {},
   "outputs": [
    {
     "name": "stdout",
     "output_type": "stream",
     "text": [
      "n2 is smallest\n"
     ]
    }
   ],
   "source": [
    "n1=100\n",
    "n2=30\n",
    "n3=40\n",
    "\n",
    "if n1<n2 and n1<n3:\n",
    "    print(\"n1 is smallest\")\n",
    "elif n2<n1 and n2<n3:\n",
    "    print(\"n2 is smallest\")\n",
    "elif n3<n1 and n3<n2:\n",
    "    print(\"n3 is smallest\")       "
   ]
  },
  {
   "cell_type": "code",
   "execution_count": 6,
   "metadata": {},
   "outputs": [
    {
     "name": "stdout",
     "output_type": "stream",
     "text": [
      "b is largest number....\n"
     ]
    }
   ],
   "source": [
    "a=10\n",
    "b=560\n",
    "c=45\n",
    "d=8\n",
    "e=78\n",
    "\n",
    "if a>b and a>c and a>d and a>e:\n",
    "    print(\"a is largest number...\")\n",
    "elif b>a and b>c and b>d and b>e:\n",
    "    print(\"b is largest number....\")\n",
    "elif c>a and c>b and c>d and c>e:\n",
    "    print(\"c is largest number...\") \n",
    "elif d>a and d>b and d>c and d>e:\n",
    "    print(\"d is largest number...\")\n",
    "elif e>a and e>b and e>c and e>d:\n",
    "    print(\"e is largest number...\")            "
   ]
  }
 ],
 "metadata": {
  "kernelspec": {
   "display_name": "base",
   "language": "python",
   "name": "python3"
  },
  "language_info": {
   "codemirror_mode": {
    "name": "ipython",
    "version": 3
   },
   "file_extension": ".py",
   "mimetype": "text/x-python",
   "name": "python",
   "nbconvert_exporter": "python",
   "pygments_lexer": "ipython3",
   "version": "3.9.13"
  }
 },
 "nbformat": 4,
 "nbformat_minor": 2
}

{
 "cells": [
  {
   "cell_type": "code",
   "execution_count": 1,
   "metadata": {},
   "outputs": [
    {
     "name": "stdout",
     "output_type": "stream",
     "text": [
      "20\n"
     ]
    }
   ],
   "source": [
    "data = 20\n",
    "print(data)"
   ]
  },
  {
   "cell_type": "code",
   "execution_count": 2,
   "metadata": {},
   "outputs": [
    {
     "name": "stdout",
     "output_type": "stream",
     "text": [
      "<class 'int'>\n",
      "<class 'float'>\n",
      "<class 'str'>\n",
      "<class 'list'>\n",
      "<class 'tuple'>\n",
      "<class 'tuple'>\n",
      "<class 'set'>\n",
      "<class 'dict'>\n"
     ]
    }
   ],
   "source": [
    "# check DataType\n",
    "#type()\n",
    "print(type(data))\n",
    "\n",
    "data = 2.3\n",
    "print(type(data))\n",
    "data = \"codeswithpankaj\"\n",
    "print(type(data))\n",
    "data = [23,45,67,89]\n",
    "print(type(data))\n",
    "data = (23,55,66,22,22)\n",
    "print(type(data))\n",
    "data = 23,55,66,22,22\n",
    "print(type(data))\n",
    "\n",
    "data = {23,55,66,22,22}\n",
    "print(type(data))\n",
    "\n",
    "data = {\"Name\":\"Calvin\"}\n",
    "print(type(data))"
   ]
  },
  {
   "cell_type": "code",
   "execution_count": 4,
   "metadata": {},
   "outputs": [
    {
     "name": "stdout",
     "output_type": "stream",
     "text": [
      "Your Name is  shoeb\n",
      "Your age is  23\n",
      "Your height is  5.7\n"
     ]
    }
   ],
   "source": [
    "# how to take user input \n",
    "# input()\n",
    "name = input(\"Enter Your Name - \")\n",
    "height = input(\"Enter Your Height - \")\n",
    "age = input(\"Enter Your Age \")\n",
    "\n",
    "print(\"Your Name is \",name)\n",
    "print(\"Your age is \",age)\n",
    "print(\"Your height is \",height)\n"
   ]
  },
  {
   "cell_type": "code",
   "execution_count": null,
   "metadata": {},
   "outputs": [],
   "source": [
    "# type Conversion\n",
    "# int()\n",
    "# float()\n",
    "# str()\n"
   ]
  },
  {
   "cell_type": "code",
   "execution_count": 5,
   "metadata": {},
   "outputs": [
    {
     "name": "stdout",
     "output_type": "stream",
     "text": [
      "this is result :  143\n",
      "<class 'int'>\n"
     ]
    }
   ],
   "source": [
    "number1 = int(input(\"Enter Number 1\"))\n",
    "number2 = int(input(\"Enter Number 2\"))\n",
    "\n",
    "result = number1 + number2\n",
    "print(\"this is result : \",result)\n",
    "\n",
    "print(type(number1))"
   ]
  },
  {
   "cell_type": "code",
   "execution_count": null,
   "metadata": {},
   "outputs": [],
   "source": []
  },
  {
   "cell_type": "markdown",
   "metadata": {},
   "source": []
  }
 ],
 "metadata": {
  "kernelspec": {
   "display_name": "base",
   "language": "python",
   "name": "python3"
  },
  "language_info": {
   "codemirror_mode": {
    "name": "ipython",
    "version": 3
   },
   "file_extension": ".py",
   "mimetype": "text/x-python",
   "name": "python",
   "nbconvert_exporter": "python",
   "pygments_lexer": "ipython3",
   "version": "3.9.13"
  }
 },
 "nbformat": 4,
 "nbformat_minor": 2
}

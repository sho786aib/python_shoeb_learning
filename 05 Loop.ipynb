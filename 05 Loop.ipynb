{
 "cells": [
  {
   "cell_type": "code",
   "execution_count": null,
   "metadata": {},
   "outputs": [],
   "source": [
    "# for loop\n",
    "#function range \n",
    "#1) range(end)\n",
    "    #for i in range(10):   #0 to 9\n",
    "       #print(i)\n",
    "\n",
    "#2) range(start,end)\n",
    "    #for i in range(10,21):  #10 to 20\n",
    "      # print(i)\n",
    "\n",
    "#3) range(start,end,step) \n",
    "    #for i in range(1,10,2)   #1,3,5......\n",
    "      #print(i)     "
   ]
  },
  {
   "cell_type": "code",
   "execution_count": 1,
   "metadata": {},
   "outputs": [
    {
     "name": "stdout",
     "output_type": "stream",
     "text": [
      "c\n",
      "o\n",
      "d\n",
      "e\n",
      "s\n",
      "w\n",
      "i\n",
      "t\n",
      "h\n",
      "p\n",
      "a\n",
      "n\n",
      "k\n",
      "a\n",
      "j\n"
     ]
    }
   ],
   "source": [
    "# for loop \n",
    "\n",
    "# example \n",
    "\n",
    "web = \"codeswithpankaj\"\n",
    "\n",
    "for i in web:\n",
    "    print(i)"
   ]
  },
  {
   "cell_type": "code",
   "execution_count": 2,
   "metadata": {},
   "outputs": [
    {
     "name": "stdout",
     "output_type": "stream",
     "text": [
      "0\n",
      "1\n",
      "2\n",
      "3\n",
      "4\n"
     ]
    }
   ],
   "source": [
    "# using range function\n",
    "\n",
    "# range(end)\n",
    "\n",
    "for i in range(5):\n",
    "    print(i)"
   ]
  },
  {
   "cell_type": "code",
   "execution_count": 3,
   "metadata": {},
   "outputs": [
    {
     "name": "stdout",
     "output_type": "stream",
     "text": [
      "2\n",
      "3\n",
      "4\n",
      "5\n",
      "6\n",
      "7\n",
      "8\n",
      "9\n"
     ]
    }
   ],
   "source": [
    "# range(start, end)\n",
    "for i in range(2, 10):\n",
    "    print(i)"
   ]
  },
  {
   "cell_type": "code",
   "execution_count": 4,
   "metadata": {},
   "outputs": [
    {
     "name": "stdout",
     "output_type": "stream",
     "text": [
      "1\n",
      "4\n",
      "7\n",
      "10\n",
      "13\n",
      "16\n",
      "19\n"
     ]
    }
   ],
   "source": [
    "# range(start, end, step)\n",
    "for i in range(1, 20, 3):\n",
    "    print(i)"
   ]
  },
  {
   "cell_type": "code",
   "execution_count": 5,
   "metadata": {},
   "outputs": [
    {
     "name": "stdout",
     "output_type": "stream",
     "text": [
      "1 | 2 | 3 | 4 | 5 | 6 | 7 | 8 | 9 | 10 | 11 | 12 | 13 | 14 | 15 | 16 | 17 | 18 | 19 | 20 | 21 | 22 | "
     ]
    }
   ],
   "source": [
    "# print horizontal values\n",
    "\n",
    "for i in range(1,23):\n",
    "    print(i, end=\" | \")"
   ]
  },
  {
   "cell_type": "code",
   "execution_count": 9,
   "metadata": {},
   "outputs": [
    {
     "name": "stdout",
     "output_type": "stream",
     "text": [
      "1 | 2 | 3 | 4 | 5 | 6 | 7 | 8 | 9 | "
     ]
    }
   ],
   "source": [
    "# how to take user input in for loop\n",
    "\n",
    "start = int(input(\"Enter start value: \"))\n",
    "end = int(input(\"Enter end value: \"))\n",
    "steps = int(input(\"Enter steps value: \"))\n",
    "\n",
    "for i in range(start, end, steps):\n",
    "    print(i, end=\" | \")"
   ]
  },
  {
   "cell_type": "code",
   "execution_count": 10,
   "metadata": {},
   "outputs": [
    {
     "name": "stdout",
     "output_type": "stream",
     "text": [
      "A --- B --- C --- D --- E --- F --- G --- H --- I --- J --- K --- L --- M --- N --- O --- P --- Q --- R --- S --- T --- U --- V --- W --- X --- Y --- Z --- "
     ]
    }
   ],
   "source": [
    "# how to print alphabets in for loop\n",
    "\n",
    "for i in range(65, 91):\n",
    "    print(chr(i), end=\" --- \")"
   ]
  },
  {
   "cell_type": "code",
   "execution_count": 13,
   "metadata": {},
   "outputs": [
    {
     "name": "stdout",
     "output_type": "stream",
     "text": [
      "2   3   4   5  \n",
      "4   6   8   10  \n",
      "6   9   12   15  \n",
      "8   12   16   20  \n",
      "10   15   20   25  \n",
      "12   18   24   30  \n",
      "14   21   28   35  \n",
      "16   24   32   40  \n",
      "18   27   36   45  \n"
     ]
    }
   ],
   "source": [
    "for i in range(1,10):\n",
    "    print(i*2,\" \",i*3,\" \",i*4,\" \",i*5,\" \",)"
   ]
  }
 ],
 "metadata": {
  "kernelspec": {
   "display_name": "base",
   "language": "python",
   "name": "python3"
  },
  "language_info": {
   "codemirror_mode": {
    "name": "ipython",
    "version": 3
   },
   "file_extension": ".py",
   "mimetype": "text/x-python",
   "name": "python",
   "nbconvert_exporter": "python",
   "pygments_lexer": "ipython3",
   "version": "3.9.13"
  }
 },
 "nbformat": 4,
 "nbformat_minor": 2
}

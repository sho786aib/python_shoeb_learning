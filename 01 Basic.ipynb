{
 "cells": [
  {
   "cell_type": "code",
   "execution_count": 4,
   "metadata": {},
   "outputs": [
    {
     "name": "stdout",
     "output_type": "stream",
     "text": [
      "welcome\n"
     ]
    },
    {
     "data": {
      "text/plain": [
       "'codeswithpankaj.com'"
      ]
     },
     "execution_count": 4,
     "metadata": {},
     "output_type": "execute_result"
    }
   ],
   "source": [
    "print(\"welcome\")\n",
    "\"p4n.in\"\n",
    "'codeswithpankaj.com'\n"
   ]
  },
  {
   "cell_type": "code",
   "execution_count": 5,
   "metadata": {},
   "outputs": [
    {
     "name": "stdout",
     "output_type": "stream",
     "text": [
      " \"welcome p4n\" \n",
      " 'welcome cwp' \n"
     ]
    }
   ],
   "source": [
    "print(' \"welcome p4n\" ')\n",
    "print(\" 'welcome cwp' \")"
   ]
  },
  {
   "cell_type": "code",
   "execution_count": 6,
   "metadata": {},
   "outputs": [
    {
     "name": "stdout",
     "output_type": "stream",
     "text": [
      "7890\n"
     ]
    }
   ],
   "source": [
    "# print number\n",
    "print(7890)"
   ]
  },
  {
   "cell_type": "code",
   "execution_count": 7,
   "metadata": {},
   "outputs": [
    {
     "name": "stdout",
     "output_type": "stream",
     "text": [
      "my number is 8080411568\n"
     ]
    }
   ],
   "source": [
    "print(\"my number is\",8080411568)"
   ]
  },
  {
   "cell_type": "code",
   "execution_count": 10,
   "metadata": {},
   "outputs": [
    {
     "name": "stdout",
     "output_type": "stream",
     "text": [
      "<class 'int'>\n",
      "<class 'float'>\n",
      "<class 'str'>\n",
      "<class 'tuple'>\n",
      "<class 'int'>\n",
      "<class 'int'>\n",
      "<class 'tuple'>\n",
      "<class 'tuple'>\n",
      "<class 'tuple'>\n",
      "<class 'list'>\n",
      "<class 'set'>\n",
      "<class 'dict'>\n"
     ]
    }
   ],
   "source": [
    "# data type\n",
    "a=10\n",
    "print(type(a))\n",
    "a=1.0\n",
    "print(type(a))\n",
    "a = \"p4n.in\"\n",
    "print(type(a))\n",
    "a = 10,\n",
    "print(type(a))\n",
    "a = 10\n",
    "print(type(a))\n",
    "a = (10)\n",
    "print(type(a))\n",
    "a = (10,)\n",
    "print(type(a))\n",
    "a = 10,44,33,22,11,11\n",
    "print(type(a))\n",
    "a = (10,44,33,22,11,11)\n",
    "print(type(a))\n",
    "a = [10,44,33,22,11,11]\n",
    "print(type(a))\n",
    "a = {10,44,33,22,11,11}\n",
    "print(type(a))\n",
    "a = {'website':'p4n.in','course':'python'}\n",
    "print(type(a))"
   ]
  },
  {
   "cell_type": "code",
   "execution_count": 12,
   "metadata": {},
   "outputs": [
    {
     "name": "stdout",
     "output_type": "stream",
     "text": [
      "my name is :  shoeb\n",
      "my age is :  23\n",
      "my height is :  5.6\n"
     ]
    }
   ],
   "source": [
    "# variable print\n",
    "name = \"shoeb\"\n",
    "age = 23\n",
    "height = 5.6\n",
    "\n",
    "print('my name is : ', name)\n",
    "print('my age is : ',age)\n",
    "print('my height is : ', height)\n"
   ]
  },
  {
   "cell_type": "code",
   "execution_count": 13,
   "metadata": {},
   "outputs": [
    {
     "name": "stdout",
     "output_type": "stream",
     "text": [
      "result is  300\n"
     ]
    }
   ],
   "source": [
    "# other example \n",
    "\n",
    "number1 = 100\n",
    "number2 = 200\n",
    "\n",
    "result = number1 + number2\n",
    "print('result is ',result)"
   ]
  }
 ],
 "metadata": {
  "kernelspec": {
   "display_name": "Python 3",
   "language": "python",
   "name": "python3"
  },
  "language_info": {
   "codemirror_mode": {
    "name": "ipython",
    "version": 3
   },
   "file_extension": ".py",
   "mimetype": "text/x-python",
   "name": "python",
   "nbconvert_exporter": "python",
   "pygments_lexer": "ipython3",
   "version": "3.9.13"
  }
 },
 "nbformat": 4,
 "nbformat_minor": 2
}

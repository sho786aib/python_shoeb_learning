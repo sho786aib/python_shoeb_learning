{
 "cells": [
  {
   "cell_type": "code",
   "execution_count": 1,
   "metadata": {},
   "outputs": [
    {
     "name": "stdout",
     "output_type": "stream",
     "text": [
      "(23, 34, 56, 17, 89)\n",
      "<class 'tuple'>\n"
     ]
    }
   ],
   "source": [
    "# tuple in python \n",
    "\n",
    "data = (23,34,56,17,89)\n",
    "print(data)\n",
    "# check type \n",
    "print(type(data))"
   ]
  },
  {
   "cell_type": "code",
   "execution_count": 2,
   "metadata": {},
   "outputs": [
    {
     "name": "stdout",
     "output_type": "stream",
     "text": [
      "56\n",
      "(17, 89)\n",
      "(23, 34, 56, 17)\n",
      "(17, 89)\n",
      "(23, 34, 56, 17, 89)\n"
     ]
    }
   ],
   "source": [
    "print(data[2])\n",
    "print(data[3:5])\n",
    "print(data[:4])\n",
    "print(data[3:])\n",
    "print(data[:])"
   ]
  },
  {
   "cell_type": "code",
   "execution_count": 4,
   "metadata": {},
   "outputs": [
    {
     "name": "stdout",
     "output_type": "stream",
     "text": [
      "2\n"
     ]
    }
   ],
   "source": [
    "# count()\n",
    "data = (11,11,11,22,33,44,55,55)\n",
    "print(data.count(55))"
   ]
  },
  {
   "cell_type": "code",
   "execution_count": 7,
   "metadata": {},
   "outputs": [
    {
     "name": "stdout",
     "output_type": "stream",
     "text": [
      "6\n"
     ]
    }
   ],
   "source": [
    "#index()\n",
    "\n",
    "print(data.index(55))"
   ]
  }
 ],
 "metadata": {
  "kernelspec": {
   "display_name": "base",
   "language": "python",
   "name": "python3"
  },
  "language_info": {
   "codemirror_mode": {
    "name": "ipython",
    "version": 3
   },
   "file_extension": ".py",
   "mimetype": "text/x-python",
   "name": "python",
   "nbconvert_exporter": "python",
   "pygments_lexer": "ipython3",
   "version": "3.9.13"
  }
 },
 "nbformat": 4,
 "nbformat_minor": 2
}

{
 "cells": [
  {
   "cell_type": "code",
   "execution_count": 2,
   "id": "4de319f0-d68d-4eec-8148-d0e0405bcb3c",
   "metadata": {},
   "outputs": [
    {
     "name": "stdout",
     "output_type": "stream",
     "text": [
      "welcome to codeswithpankaj.com\n"
     ]
    }
   ],
   "source": [
    "#18 mar 25\n",
    "# print()\n",
    "print(\"welcome to codeswithpankaj.com\")"
   ]
  },
  {
   "cell_type": "code",
   "execution_count": 4,
   "id": "17f4730e-e04a-4e82-a878-caad2bb0f36c",
   "metadata": {},
   "outputs": [
    {
     "name": "stdout",
     "output_type": "stream",
     "text": [
      "welcome to blog cwpc.in\n"
     ]
    }
   ],
   "source": [
    "print('welcome to blog cwpc.in')"
   ]
  },
  {
   "cell_type": "code",
   "execution_count": 6,
   "id": "f8a6f702-d3be-41db-9eb6-003696c68197",
   "metadata": {},
   "outputs": [
    {
     "name": "stdout",
     "output_type": "stream",
     "text": [
      "'cwpc.in'\n",
      "\"codeswithpankaj.com\"\n"
     ]
    }
   ],
   "source": [
    "print(\"'cwpc.in'\")\n",
    "print('\"codeswithpankaj.com\"')"
   ]
  },
  {
   "cell_type": "code",
   "execution_count": 8,
   "id": "e1ba8a20-d326-4a9d-b2b9-097caf0584b1",
   "metadata": {},
   "outputs": [
    {
     "name": "stdout",
     "output_type": "stream",
     "text": [
      "this is number  10\n"
     ]
    }
   ],
   "source": [
    "# variable\n",
    "number = 10\n",
    "print('this is number ',number)"
   ]
  },
  {
   "cell_type": "code",
   "execution_count": 10,
   "id": "0497a4a3-93f5-480c-8df9-46712cb69873",
   "metadata": {},
   "outputs": [
    {
     "name": "stdout",
     "output_type": "stream",
     "text": [
      "My name is   Nishant\n",
      "My age is   23\n",
      "height is  4.5\n"
     ]
    }
   ],
   "source": [
    "name = \"Nishant\"\n",
    "age = 23\n",
    "height = 4.5\n",
    "\n",
    "print(\"My name is  \",name)\n",
    "print(\"My age is  \",age)\n",
    "print(\"height is \",height)"
   ]
  },
  {
   "cell_type": "code",
   "execution_count": 12,
   "id": "52d1129f-5724-43ee-a144-bd885a047f6f",
   "metadata": {},
   "outputs": [
    {
     "name": "stdin",
     "output_type": "stream",
     "text": [
      "Enter Your Name  shoeb\n",
      "Enter Your Age  23\n",
      "Enter Your height  5.5\n"
     ]
    },
    {
     "name": "stdout",
     "output_type": "stream",
     "text": [
      "My name is   shoeb\n",
      "My age is   23\n",
      "height is  5.5\n"
     ]
    }
   ],
   "source": [
    "# int()\n",
    "# float()\n",
    "# str()\n",
    "\n",
    "name = str(input('Enter Your Name '))\n",
    "age = int(input('Enter Your Age '))\n",
    "height = float(input('Enter Your height '))\n",
    "\n",
    "print(\"My name is  \",name)\n",
    "print(\"My age is  \",age)\n",
    "print(\"height is \",height)"
   ]
  },
  {
   "cell_type": "code",
   "execution_count": 16,
   "id": "04ca025a-9933-465b-831d-18a752ac3752",
   "metadata": {},
   "outputs": [
    {
     "name": "stdout",
     "output_type": "stream",
     "text": [
      "181\n",
      "135\n",
      "3634\n",
      "6.869565217391305\n",
      "6\n",
      "20\n",
      "24964\n"
     ]
    }
   ],
   "source": [
    "# 20 mar 25\n",
    "#Arithmetic Operators\n",
    "x = 158\n",
    "y = 23\n",
    "\n",
    "print(x + y)\n",
    "print(x - y)\n",
    "print(x * y)\n",
    "print(x / y)\n",
    "print(x // y)\n",
    "print(x % y)\n",
    "print(x ** 2)"
   ]
  },
  {
   "cell_type": "code",
   "execution_count": 18,
   "id": "f56397af-88c6-49a0-960c-c946040681b3",
   "metadata": {},
   "outputs": [
    {
     "name": "stdout",
     "output_type": "stream",
     "text": [
      "True\n",
      "False\n",
      "False\n",
      "True\n",
      "True\n",
      "False\n"
     ]
    }
   ],
   "source": [
    "#Comparison Operators\n",
    "print(23 < 34)\n",
    "print(23 > 34)\n",
    "print(23 == 34)\n",
    "print(23 != 34)\n",
    "print(23 <= 34)\n",
    "print(23 >= 34)"
   ]
  },
  {
   "cell_type": "code",
   "execution_count": 20,
   "id": "b5df34e2-2f6c-4075-b071-71cca8c57816",
   "metadata": {},
   "outputs": [
    {
     "name": "stdout",
     "output_type": "stream",
     "text": [
      "False\n",
      "True\n",
      "False\n"
     ]
    }
   ],
   "source": [
    "#Logical Operators\n",
    "# and\n",
    "print(23 == 67 and 78 < 100) \n",
    "# or \n",
    "print(23 == 67 or 78 < 100) \n",
    "# not \n",
    "print( not 34 == 34)"
   ]
  },
  {
   "cell_type": "code",
   "execution_count": 22,
   "id": "7e3f36dc-a706-4209-ad2b-5e2f51385860",
   "metadata": {},
   "outputs": [
    {
     "name": "stdout",
     "output_type": "stream",
     "text": [
      "10\n",
      "20\n",
      "10\n",
      "100\n",
      "10.0\n"
     ]
    }
   ],
   "source": [
    "#Assignment Operators\n",
    "a = 10 \n",
    "print(a)\n",
    "\n",
    "# a = a + 10\n",
    "a += 10\n",
    "print(a)\n",
    "a -= 10\n",
    "print(a)\n",
    "a *= 10\n",
    "print(a)\n",
    "a /= 10\n",
    "print(a)"
   ]
  },
  {
   "cell_type": "code",
   "execution_count": 24,
   "id": "49fda978-4d06-4bd9-9ca1-9cc2d7c4c328",
   "metadata": {},
   "outputs": [
    {
     "name": "stdout",
     "output_type": "stream",
     "text": [
      "False\n",
      "True\n"
     ]
    }
   ],
   "source": [
    "#Identity Operators\n",
    "#is \n",
    "a = 10\n",
    "b = 20\n",
    "print(a is b)\n",
    "# is not\n",
    "print(a is not b)\n"
   ]
  },
  {
   "cell_type": "code",
   "execution_count": 26,
   "id": "4775d529-e57e-413e-a1c2-9ff6ae28a565",
   "metadata": {},
   "outputs": [
    {
     "name": "stdout",
     "output_type": "stream",
     "text": [
      "True\n",
      "False\n"
     ]
    }
   ],
   "source": [
    "#Membership Operators\n",
    "web = \"codeswithpankaj.com\"\n",
    "print('c' in web)\n",
    "print('c' not in web)"
   ]
  },
  {
   "cell_type": "code",
   "execution_count": 28,
   "id": "c3eb08fb-a254-450a-bdc2-d5ebc0af4997",
   "metadata": {},
   "outputs": [
    {
     "name": "stdout",
     "output_type": "stream",
     "text": [
      "a is smallest\n"
     ]
    }
   ],
   "source": [
    "# if else\n",
    "\n",
    "a = 10 \n",
    "b = 78\n",
    "\n",
    "# find the smallest values \n",
    "\n",
    "if a < b :\n",
    "    print(\"a is smallest\")\n",
    "else:\n",
    "    print(\"a is not smallest ...\")    "
   ]
  },
  {
   "cell_type": "code",
   "execution_count": 32,
   "id": "3ec1fb9a-f5a7-428a-a11c-048b0faecbf9",
   "metadata": {},
   "outputs": [
    {
     "name": "stdout",
     "output_type": "stream",
     "text": [
      " b is smallest ...\n"
     ]
    }
   ],
   "source": [
    "a = 100\n",
    "b = 20\n",
    "c = 30\n",
    "\n",
    "if a < b and a < c:\n",
    "    print(' a is smallest ...')\n",
    "elif b < a and b < c:\n",
    "    print(\" b is smallest ...\")\n",
    "else:\n",
    "    print(' c is smallest ...')  "
   ]
  },
  {
   "cell_type": "code",
   "execution_count": 1,
   "id": "4ee51d3e-74b1-489b-963d-8c76380287c5",
   "metadata": {},
   "outputs": [
    {
     "name": "stdout",
     "output_type": "stream",
     "text": [
      "c\n",
      "o\n",
      "d\n",
      "e\n",
      "s\n",
      "w\n",
      "i\n",
      "t\n",
      "h\n",
      "p\n",
      "a\n",
      "n\n",
      "k\n",
      "a\n",
      "j\n"
     ]
    }
   ],
   "source": [
    "#22 mar 25\n",
    "web=\"codeswithpankaj\"\n",
    "for i in web:\n",
    "    print(i)"
   ]
  },
  {
   "cell_type": "code",
   "execution_count": 3,
   "id": "7d32b7be-47ce-4fa3-9be4-aaac1ab6a96f",
   "metadata": {},
   "outputs": [
    {
     "name": "stdout",
     "output_type": "stream",
     "text": [
      "0\n",
      "1\n",
      "2\n",
      "3\n",
      "4\n",
      "5\n",
      "6\n",
      "7\n",
      "8\n",
      "9\n",
      "10\n",
      "11\n",
      "12\n",
      "13\n",
      "14\n",
      "15\n",
      "16\n",
      "17\n",
      "18\n",
      "19\n"
     ]
    }
   ],
   "source": [
    "## range(EndValue) # start 0\n",
    "for i in range(20):\n",
    "    print(i)"
   ]
  },
  {
   "cell_type": "code",
   "execution_count": 5,
   "id": "6c7330e3-643a-49b2-9d12-95c8aa2bd2aa",
   "metadata": {},
   "outputs": [
    {
     "name": "stdout",
     "output_type": "stream",
     "text": [
      "10\n",
      "11\n",
      "12\n",
      "13\n",
      "14\n",
      "15\n",
      "16\n",
      "17\n",
      "18\n",
      "19\n",
      "20\n",
      "21\n"
     ]
    }
   ],
   "source": [
    "## range(start,end)\n",
    "for i in range(10,22):\n",
    "    print(i)"
   ]
  },
  {
   "cell_type": "code",
   "execution_count": 9,
   "id": "50e5c368-549a-4d2b-b628-f9f9e1882f85",
   "metadata": {},
   "outputs": [
    {
     "name": "stdout",
     "output_type": "stream",
     "text": [
      "1\n",
      "3\n",
      "5\n",
      "7\n",
      "9\n"
     ]
    }
   ],
   "source": [
    "# range(start,end,steps)\n",
    "for i in range(1,10,2):\n",
    "    print(i)\n"
   ]
  },
  {
   "cell_type": "code",
   "execution_count": 11,
   "id": "dc51a0c2-7c9a-424f-a2f5-e7bfff4fece2",
   "metadata": {},
   "outputs": [
    {
     "name": "stdin",
     "output_type": "stream",
     "text": [
      "enter start number  11\n",
      "enter end number  30\n"
     ]
    },
    {
     "name": "stdout",
     "output_type": "stream",
     "text": [
      "11\n",
      "12\n",
      "13\n",
      "14\n",
      "15\n",
      "16\n",
      "17\n",
      "18\n",
      "19\n",
      "20\n",
      "21\n",
      "22\n",
      "23\n",
      "24\n",
      "25\n",
      "26\n",
      "27\n",
      "28\n",
      "29\n",
      "30\n"
     ]
    }
   ],
   "source": [
    "# take user input\n",
    "start = int(input('enter start number '))\n",
    "end = int(input('enter end number '))\n",
    "for i in range(start,end+1):\n",
    "    print(i)"
   ]
  },
  {
   "cell_type": "code",
   "execution_count": 15,
   "id": "b65ac19d-4fb6-4132-89ea-9369b91236eb",
   "metadata": {},
   "outputs": [
    {
     "name": "stdout",
     "output_type": "stream",
     "text": [
      "1 2 3 4 5 6 7 8 9 10 11 12 13 14 15 16 17 18 19 "
     ]
    }
   ],
   "source": [
    "#end=' '\n",
    "for i in range(1,20):\n",
    "    print(i,end=' ')"
   ]
  },
  {
   "cell_type": "code",
   "execution_count": 17,
   "id": "3f7cd352-fd21-4def-8ad6-b53910cbd0ee",
   "metadata": {},
   "outputs": [
    {
     "name": "stdout",
     "output_type": "stream",
     "text": [
      "1\n",
      "2\n",
      "3\n",
      "4\n",
      "5\n",
      "6\n",
      "7\n",
      "8\n",
      "9\n",
      "10\n"
     ]
    }
   ],
   "source": [
    "# while loop \n",
    "\n",
    "# start point\n",
    "# end point\n",
    "# output\n",
    "# +/-\n",
    "i=1\n",
    "while(i<=10):\n",
    "    print(i)\n",
    "    i=i+1"
   ]
  },
  {
   "cell_type": "code",
   "execution_count": 19,
   "id": "231cef4c-d344-4aac-95e2-e61d0ec16cdd",
   "metadata": {},
   "outputs": [
    {
     "name": "stdout",
     "output_type": "stream",
     "text": [
      "welcome to codes with pankaj\n",
      "cwpc.in\n",
      "welcome to codes with pankaj\n",
      "cwpc.in\n"
     ]
    }
   ],
   "source": [
    "# function basic \n",
    "\n",
    "# def functionName():\n",
    "    # output\n",
    "\n",
    "def info():\n",
    "    print(\"welcome to codes with pankaj\")\n",
    "    print(\"cwpc.in\")\n",
    "\n",
    "# call the function\n",
    "info()\n",
    "info()     "
   ]
  },
  {
   "cell_type": "code",
   "execution_count": 21,
   "id": "d16cd974-d60c-4e08-94ce-4ed381f27414",
   "metadata": {},
   "outputs": [
    {
     "name": "stdout",
     "output_type": "stream",
     "text": [
      "1267\n"
     ]
    }
   ],
   "source": [
    "# with arg\n",
    "\n",
    "def add(num1,num2):\n",
    "    print(num1+num2)\n",
    "\n",
    "add(1200,67)    "
   ]
  },
  {
   "cell_type": "code",
   "execution_count": 23,
   "id": "39278119-061e-4cc3-a5ad-f5e8c67486ef",
   "metadata": {},
   "outputs": [
    {
     "name": "stdout",
     "output_type": "stream",
     "text": [
      "this is number :  900\n"
     ]
    }
   ],
   "source": [
    "# return type\n",
    "\n",
    "def get_number():\n",
    "    return 900\n",
    "\n",
    "print(\"this is number : \",get_number())"
   ]
  },
  {
   "cell_type": "code",
   "execution_count": 25,
   "id": "814acda7-f51b-433e-848d-25eddbc6b6af",
   "metadata": {},
   "outputs": [
    {
     "name": "stdout",
     "output_type": "stream",
     "text": [
      " this is main result  1416.0\n"
     ]
    }
   ],
   "source": [
    "# return type and with arg\n",
    "\n",
    "def get_result(total,per):\n",
    "    f_total = total*per/100\n",
    "    f_total = total+ f_total\n",
    "    return f_total\n",
    "final = get_result(1200,18)\n",
    "\n",
    "m_final = 345 + final\n",
    "print(' this is main result ',final)    \n",
    "    "
   ]
  },
  {
   "cell_type": "code",
   "execution_count": 1,
   "id": "ab67fe21-0352-49e3-b412-f62f6b5518f5",
   "metadata": {},
   "outputs": [
    {
     "name": "stdout",
     "output_type": "stream",
     "text": [
      "2025-03-27 08:25:07.967579\n"
     ]
    }
   ],
   "source": [
    "# 25 march 2025\n",
    "# Date and time in python \n",
    "import datetime\n",
    "now= datetime.datetime.now()\n",
    "print(now)"
   ]
  },
  {
   "cell_type": "code",
   "execution_count": 13,
   "id": "e8ca307e-237c-45cb-8282-1a9fcffd5a0f",
   "metadata": {},
   "outputs": [
    {
     "name": "stdout",
     "output_type": "stream",
     "text": [
      "3\n",
      "27\n",
      "2025\n",
      "8\n",
      "25\n",
      "7\n"
     ]
    }
   ],
   "source": [
    "# get only month \n",
    "print(now.month)\n",
    "\n",
    "# get only day\n",
    "print(now.day)\n",
    "\n",
    "# get only year\n",
    "print(now.year)\n",
    "\n",
    "# get only hour\n",
    "print(now.hour)\n",
    "\n",
    "# get only minute\n",
    "print(now.minute)\n",
    "\n",
    "# get only second\n",
    "print(now.second)\n"
   ]
  },
  {
   "cell_type": "code",
   "execution_count": 21,
   "id": "43d65e58-ba53-4c61-887e-222dc046e62b",
   "metadata": {},
   "outputs": [
    {
     "name": "stdout",
     "output_type": "stream",
     "text": [
      "25-03-27\n",
      "08:25:07\n",
      "March\n"
     ]
    }
   ],
   "source": [
    "# get complete date\n",
    "print(now.strftime(\"%y-%m-%d\"))\n",
    "\n",
    "# get complete time\n",
    "print(now.strftime(\"%H:%M:%S\"))\n",
    "\n",
    "# get month name in character\n",
    "print(now.strftime(\"%B\"))\n",
    "\n",
    "\n"
   ]
  },
  {
   "cell_type": "code",
   "execution_count": 23,
   "id": "65108ffd-4417-4979-a564-3524b16b0f99",
   "metadata": {},
   "outputs": [
    {
     "name": "stdout",
     "output_type": "stream",
     "text": [
      "     June 2025\n",
      "Mo Tu We Th Fr Sa Su\n",
      "                   1\n",
      " 2  3  4  5  6  7  8\n",
      " 9 10 11 12 13 14 15\n",
      "16 17 18 19 20 21 22\n",
      "23 24 25 26 27 28 29\n",
      "30\n",
      "\n"
     ]
    }
   ],
   "source": [
    "# show calendar\n",
    "import calendar\n",
    "print(calendar.month(2025,6))"
   ]
  },
  {
   "cell_type": "code",
   "execution_count": 25,
   "id": "16fa77aa-3148-4d73-a707-8fbdca5e3e23",
   "metadata": {},
   "outputs": [
    {
     "name": "stdout",
     "output_type": "stream",
     "text": [
      "                                  2001\n",
      "\n",
      "      January                   February                   March\n",
      "Mo Tu We Th Fr Sa Su      Mo Tu We Th Fr Sa Su      Mo Tu We Th Fr Sa Su\n",
      " 1  2  3  4  5  6  7                1  2  3  4                1  2  3  4\n",
      " 8  9 10 11 12 13 14       5  6  7  8  9 10 11       5  6  7  8  9 10 11\n",
      "15 16 17 18 19 20 21      12 13 14 15 16 17 18      12 13 14 15 16 17 18\n",
      "22 23 24 25 26 27 28      19 20 21 22 23 24 25      19 20 21 22 23 24 25\n",
      "29 30 31                  26 27 28                  26 27 28 29 30 31\n",
      "\n",
      "       April                      May                       June\n",
      "Mo Tu We Th Fr Sa Su      Mo Tu We Th Fr Sa Su      Mo Tu We Th Fr Sa Su\n",
      "                   1          1  2  3  4  5  6                   1  2  3\n",
      " 2  3  4  5  6  7  8       7  8  9 10 11 12 13       4  5  6  7  8  9 10\n",
      " 9 10 11 12 13 14 15      14 15 16 17 18 19 20      11 12 13 14 15 16 17\n",
      "16 17 18 19 20 21 22      21 22 23 24 25 26 27      18 19 20 21 22 23 24\n",
      "23 24 25 26 27 28 29      28 29 30 31               25 26 27 28 29 30\n",
      "30\n",
      "\n",
      "        July                     August                  September\n",
      "Mo Tu We Th Fr Sa Su      Mo Tu We Th Fr Sa Su      Mo Tu We Th Fr Sa Su\n",
      "                   1             1  2  3  4  5                      1  2\n",
      " 2  3  4  5  6  7  8       6  7  8  9 10 11 12       3  4  5  6  7  8  9\n",
      " 9 10 11 12 13 14 15      13 14 15 16 17 18 19      10 11 12 13 14 15 16\n",
      "16 17 18 19 20 21 22      20 21 22 23 24 25 26      17 18 19 20 21 22 23\n",
      "23 24 25 26 27 28 29      27 28 29 30 31            24 25 26 27 28 29 30\n",
      "30 31\n",
      "\n",
      "      October                   November                  December\n",
      "Mo Tu We Th Fr Sa Su      Mo Tu We Th Fr Sa Su      Mo Tu We Th Fr Sa Su\n",
      " 1  2  3  4  5  6  7                1  2  3  4                      1  2\n",
      " 8  9 10 11 12 13 14       5  6  7  8  9 10 11       3  4  5  6  7  8  9\n",
      "15 16 17 18 19 20 21      12 13 14 15 16 17 18      10 11 12 13 14 15 16\n",
      "22 23 24 25 26 27 28      19 20 21 22 23 24 25      17 18 19 20 21 22 23\n",
      "29 30 31                  26 27 28 29 30            24 25 26 27 28 29 30\n",
      "                                                    31\n",
      "\n"
     ]
    }
   ],
   "source": [
    "# get full year calendar\n",
    "year=2001\n",
    "print(calendar.calendar(year))"
   ]
  },
  {
   "cell_type": "code",
   "execution_count": 34,
   "id": "5c0335ee-6c3f-4bfd-a20d-1a1ac0c0d01c",
   "metadata": {},
   "outputs": [
    {
     "name": "stdout",
     "output_type": "stream",
     "text": [
      "👍\n"
     ]
    }
   ],
   "source": [
    "# emoji print   \n",
    "import emoji\n",
    "print(emoji.emojize(\":thumbs_up:\"))"
   ]
  },
  {
   "cell_type": "code",
   "execution_count": 38,
   "id": "b1aedc18-d217-4dc3-b1ad-c031062f41a5",
   "metadata": {},
   "outputs": [
    {
     "name": "stdout",
     "output_type": "stream",
     "text": [
      "[]\n",
      "<class 'list'>\n"
     ]
    }
   ],
   "source": [
    "# List in python \n",
    "# List is a collection which is ordered and changeable. Allows duplicate members.\n",
    "# create a empty list\n",
    "my_list=[]\n",
    "print(my_list)\n",
    "\n",
    "# check the type of my_list\n",
    "print(type(my_list))"
   ]
  },
  {
   "cell_type": "code",
   "execution_count": 40,
   "id": "20375554-d60b-4da8-9742-aa43e7125b10",
   "metadata": {},
   "outputs": [
    {
     "name": "stdout",
     "output_type": "stream",
     "text": [
      "[1, 2, 3, 4, 5]\n"
     ]
    }
   ],
   "source": [
    "# init list with values\n",
    "my_list=[1,2,3,4,5]\n",
    "print(my_list)"
   ]
  },
  {
   "cell_type": "code",
   "execution_count": 42,
   "id": "1cb980f0-b076-41bb-a877-f1c9cbe7dac1",
   "metadata": {},
   "outputs": [
    {
     "name": "stdout",
     "output_type": "stream",
     "text": [
      "[1, 2, 3, 'hii', 25]\n"
     ]
    }
   ],
   "source": [
    "# mixed data types\n",
    "my_list=[1,2,3,\"hii\",25]\n",
    "print(my_list)"
   ]
  },
  {
   "cell_type": "code",
   "execution_count": 60,
   "id": "b312e443-c816-4beb-bfed-3a2d0498294d",
   "metadata": {},
   "outputs": [
    {
     "name": "stdout",
     "output_type": "stream",
     "text": [
      "apple\n",
      "cherry\n",
      "cherry\n"
     ]
    }
   ],
   "source": [
    "# aeccess list element\n",
    "#index       0       1        2        3        4        5       6\n",
    "fruits = [\"apple\",\"banana\",\"cherry\",\"orange\",\"kiwi\",\"melon\",\"mango\"]\n",
    "#-ve       -7       -6        -5      -4      -3       -2      -1\n",
    "# print the element at index 0\n",
    "print(fruits[0])\n",
    "print(fruits[-5])\n",
    "print(fruits[2])\n"
   ]
  },
  {
   "cell_type": "code",
   "execution_count": 66,
   "id": "0f5029e6-ef52-40eb-9350-a477513919de",
   "metadata": {},
   "outputs": [
    {
     "name": "stdout",
     "output_type": "stream",
     "text": [
      "['banana', 'cherry', 'orange']\n",
      "['cherry', 'orange', 'kiwi']\n",
      "['apple', 'banana', 'cherry', 'orange', 'kiwi']\n",
      "['kiwi', 'melon', 'mango']\n",
      "['apple', 'banana', 'cherry', 'orange', 'kiwi', 'melon', 'mango']\n",
      "['apple', 'banana', 'cherry', 'orange', 'kiwi', 'melon', 'mango']\n"
     ]
    }
   ],
   "source": [
    "#slice list\n",
    "# get the elements from index 1 to 4 (not included)\n",
    "print(fruits[1:4])\n",
    "print(fruits[-5:-2])\n",
    "print(fruits[:5])\n",
    "print(fruits[4:])\n",
    "print(fruits[:])\n",
    "print(fruits)"
   ]
  },
  {
   "cell_type": "code",
   "execution_count": 68,
   "id": "b2d786fc-0890-43a6-8672-abf9149285c1",
   "metadata": {},
   "outputs": [
    {
     "name": "stdout",
     "output_type": "stream",
     "text": [
      "['avocado', 'banana', 'cherry', 'orange', 'kiwi', 'melon', 'mango']\n"
     ]
    }
   ],
   "source": [
    "# change the value of an element\n",
    "fruits[0] = \"avocado\"\n",
    "print(fruits)"
   ]
  },
  {
   "cell_type": "code",
   "execution_count": 70,
   "id": "7aa5a109-5f1e-4e73-9d3c-38bca92e633d",
   "metadata": {},
   "outputs": [
    {
     "name": "stdout",
     "output_type": "stream",
     "text": [
      "['avocado', 'banana', 'blueberry', 'cherry', 'orange', 'kiwi', 'melon', 'mango']\n"
     ]
    }
   ],
   "source": [
    "# insert element at specific index\n",
    "fruits.insert(2, \"blueberry\")\n",
    "print(fruits)"
   ]
  },
  {
   "cell_type": "code",
   "execution_count": 72,
   "id": "98b40aba-667c-467c-aa55-f1995e3594bd",
   "metadata": {},
   "outputs": [
    {
     "name": "stdout",
     "output_type": "stream",
     "text": [
      "['avocado', 'banana', 'blueberry', 'cherry', 'orange', 'kiwi', 'melon', 'mango', 'strawberry']\n"
     ]
    }
   ],
   "source": [
    "# append element at the end of the list\n",
    "fruits.append(\"strawberry\")\n",
    "print(fruits)"
   ]
  },
  {
   "cell_type": "code",
   "execution_count": 74,
   "id": "d6856a28-8a1f-4005-873e-5e0ffd74a620",
   "metadata": {},
   "outputs": [
    {
     "name": "stdout",
     "output_type": "stream",
     "text": [
      "['avocado', 'blueberry', 'cherry', 'orange', 'kiwi', 'melon', 'mango', 'strawberry']\n"
     ]
    }
   ],
   "source": [
    "# remove element\n",
    "fruits.remove(\"banana\")\n",
    "print(fruits)"
   ]
  },
  {
   "cell_type": "code",
   "execution_count": 86,
   "id": "f7b4036f-c2ef-4847-a12f-61edcde97298",
   "metadata": {},
   "outputs": [
    {
     "data": {
      "text/plain": [
       "'orange'"
      ]
     },
     "execution_count": 86,
     "metadata": {},
     "output_type": "execute_result"
    }
   ],
   "source": [
    "# remove element at specific index\n",
    "fruits.pop(3)\n"
   ]
  },
  {
   "cell_type": "code",
   "execution_count": 88,
   "id": "df90705c-21ab-4037-83a4-7f14c786d29d",
   "metadata": {},
   "outputs": [
    {
     "name": "stdout",
     "output_type": "stream",
     "text": [
      "['avocado', 'blueberry', 'cherry', 'kiwi']\n"
     ]
    }
   ],
   "source": [
    "print(fruits)"
   ]
  },
  {
   "cell_type": "code",
   "execution_count": 90,
   "id": "3a57ea87-61f8-4986-aff0-c59af93d44a3",
   "metadata": {},
   "outputs": [
    {
     "name": "stdout",
     "output_type": "stream",
     "text": [
      "['avocado', 'blueberry', 'cherry', 'kiwi', 'grapes', 'watermelon']\n"
     ]
    }
   ],
   "source": [
    "# extend list\n",
    "new_fruits = [\"grapes\", \"watermelon\"]\n",
    "fruits.extend(new_fruits)\n",
    "print(fruits)"
   ]
  },
  {
   "cell_type": "code",
   "execution_count": 92,
   "id": "513c452e-c1ae-4763-b516-3bff437bd760",
   "metadata": {},
   "outputs": [
    {
     "name": "stdout",
     "output_type": "stream",
     "text": [
      "['avocado', 'blueberry', 'cherry', 'kiwi', 'grapes']\n"
     ]
    }
   ],
   "source": [
    "# pop element from the end of the list\n",
    "fruits.pop()\n",
    "print(fruits)"
   ]
  },
  {
   "cell_type": "code",
   "execution_count": 94,
   "id": "9dbd945d-81dd-4164-8cb4-0d40d5332518",
   "metadata": {},
   "outputs": [
    {
     "name": "stdout",
     "output_type": "stream",
     "text": [
      "avocado\n",
      "blueberry\n",
      "cherry\n",
      "kiwi\n",
      "grapes\n"
     ]
    }
   ],
   "source": [
    "# intreting list\n",
    "for i in fruits:\n",
    "    print(i)"
   ]
  },
  {
   "cell_type": "code",
   "execution_count": 96,
   "id": "f08f12bc-7175-4b90-8dcf-a8b890cb37d5",
   "metadata": {},
   "outputs": [
    {
     "name": "stdout",
     "output_type": "stream",
     "text": [
      "False\n",
      "True\n"
     ]
    }
   ],
   "source": [
    "# check if an element is in the list\n",
    "\n",
    "print(\"apple\" in fruits) \n",
    "\n",
    "print(\"kiwi\" in fruits)  "
   ]
  },
  {
   "cell_type": "code",
   "execution_count": 108,
   "id": "9707a583-151e-4dba-9d33-55ea129a936d",
   "metadata": {},
   "outputs": [
    {
     "name": "stdin",
     "output_type": "stream",
     "text": [
      "Enter the size of the list:  5\n",
      "Enter the food:  chicken\n",
      "Enter the food:  samosa\n",
      "Enter the food:  biryani\n",
      "Enter the food:  cutlets\n",
      "Enter the food:  pav\n"
     ]
    },
    {
     "name": "stdout",
     "output_type": "stream",
     "text": [
      "chicken\n",
      "samosa\n",
      "biryani\n",
      "cutlets\n",
      "pav\n"
     ]
    }
   ],
   "source": [
    "# how to take user input into list \n",
    "\n",
    "# define size and list \n",
    "\n",
    "size = int(input(\"Enter the size of the list: \"))\n",
    "food = []\n",
    "\n",
    "# take input from user\n",
    "for i in range(size):\n",
    "    f = input(\"Enter the food: \")\n",
    "    food.append(f)\n",
    "    \n",
    "    \n",
    "\n",
    "for i in food:\n",
    "    print(i)\n",
    "\n"
   ]
  },
  {
   "cell_type": "code",
   "execution_count": 110,
   "id": "15620797-f392-4753-abd9-d49d1cf4a9c2",
   "metadata": {},
   "outputs": [
    {
     "name": "stdout",
     "output_type": "stream",
     "text": [
      "{'name': 'joy', 'age': 25, 'city': 'Dhaka'}\n"
     ]
    }
   ],
   "source": [
    "# 27 march 2025\n",
    "# EXAMPLE : \n",
    "data = {'name': 'joy', 'age': 25, 'city': 'Dhaka'}\n",
    "print(data)\n"
   ]
  },
  {
   "cell_type": "code",
   "execution_count": 112,
   "id": "13bbdbae-b0e6-45b1-aa11-f9e7e350e82d",
   "metadata": {},
   "outputs": [
    {
     "name": "stdout",
     "output_type": "stream",
     "text": [
      "joy\n"
     ]
    }
   ],
   "source": [
    "# access the items of a dictionary\n",
    "print(data['name'])"
   ]
  },
  {
   "cell_type": "code",
   "execution_count": 116,
   "id": "bf624254-f953-487e-9309-2168bfeb1c14",
   "metadata": {},
   "outputs": [
    {
     "name": "stdout",
     "output_type": "stream",
     "text": [
      "dict_keys(['name', 'age', 'city'])\n"
     ]
    }
   ],
   "source": [
    "# get all keys of a dictionary\n",
    "print(data.keys())"
   ]
  },
  {
   "cell_type": "code",
   "execution_count": 118,
   "id": "0cfa0e90-bd5d-4c2b-9006-1c0f55aadfb4",
   "metadata": {},
   "outputs": [
    {
     "name": "stdout",
     "output_type": "stream",
     "text": [
      "dict_values(['joy', 25, 'Dhaka'])\n"
     ]
    }
   ],
   "source": [
    "# get all values of a dictionary\n",
    "print(data.values())"
   ]
  },
  {
   "cell_type": "code",
   "execution_count": 120,
   "id": "81ebeee6-d905-484e-8742-b15897586b76",
   "metadata": {},
   "outputs": [
    {
     "name": "stdout",
     "output_type": "stream",
     "text": [
      "joy\n"
     ]
    }
   ],
   "source": [
    "# get data from keys \n",
    "print(data.get('name'))"
   ]
  },
  {
   "cell_type": "code",
   "execution_count": 122,
   "id": "3b6473d8-3fcf-4183-ac2c-c5a62f434810",
   "metadata": {},
   "outputs": [
    {
     "name": "stdout",
     "output_type": "stream",
     "text": [
      "dict_items([('name', 'joy'), ('age', 25), ('city', 'Dhaka')])\n"
     ]
    }
   ],
   "source": [
    "# get all data from using items() method\n",
    "print(data.items())"
   ]
  },
  {
   "cell_type": "code",
   "execution_count": 124,
   "id": "8cbf8032-2bfe-4d39-9a64-952d6034e703",
   "metadata": {},
   "outputs": [
    {
     "name": "stdout",
     "output_type": "stream",
     "text": [
      "{'name': 'joy', 'age': 30, 'city': 'Dhaka'}\n"
     ]
    }
   ],
   "source": [
    "# update values of a dictionary\n",
    "data['age'] = 30\n",
    "print(data)"
   ]
  },
  {
   "cell_type": "code",
   "execution_count": 126,
   "id": "375854cf-3248-4595-809f-ef107e2fde24",
   "metadata": {},
   "outputs": [
    {
     "name": "stdout",
     "output_type": "stream",
     "text": [
      "{'name': 'joy', 'age': 30, 'city': 'Dhaka', 'country': 'Bangladesh'}\n"
     ]
    }
   ],
   "source": [
    "# add new key-value pair in a dictionary\n",
    "\n",
    "data['country'] = 'Bangladesh'\n",
    "print(data)"
   ]
  },
  {
   "cell_type": "code",
   "execution_count": 128,
   "id": "30db1be6-31fe-4a6a-b324-385b652a8335",
   "metadata": {},
   "outputs": [
    {
     "name": "stdout",
     "output_type": "stream",
     "text": [
      "{'name': 'joy', 'age': 30, 'country': 'Bangladesh'}\n"
     ]
    }
   ],
   "source": [
    "# delete a key-value pair from a dictionary\n",
    "del data['city']\n",
    "print(data)"
   ]
  },
  {
   "cell_type": "code",
   "execution_count": 130,
   "id": "4b2b1655-18ec-4b52-b9d8-842230324f77",
   "metadata": {},
   "outputs": [
    {
     "name": "stdout",
     "output_type": "stream",
     "text": [
      "name = joy\n",
      "age = 30\n",
      "country = Bangladesh\n"
     ]
    }
   ],
   "source": [
    "# iterate through a dictionary\n",
    "# fetch data from loop\n",
    "for i in data:\n",
    "    print(i,'=', data[i])"
   ]
  },
  {
   "cell_type": "code",
   "execution_count": 132,
   "id": "87db4a49-d335-4e4d-8b07-dafaac5aca00",
   "metadata": {},
   "outputs": [
    {
     "name": "stdout",
     "output_type": "stream",
     "text": [
      "name = joy\n",
      "age = 30\n",
      "country = Bangladesh\n"
     ]
    }
   ],
   "source": [
    "# fetch data from items() method\n",
    "for key, value in data.items():\n",
    "    print(key, '=', value)"
   ]
  },
  {
   "cell_type": "code",
   "execution_count": 134,
   "id": "097f21b3-642a-4f9f-b7f4-a1b1fc2c8f38",
   "metadata": {},
   "outputs": [
    {
     "name": "stdout",
     "output_type": "stream",
     "text": [
      "True\n",
      "False\n"
     ]
    }
   ],
   "source": [
    "# check if a key exists in a dictionary\n",
    "\n",
    "print('name' in data)\n",
    "print('city' in data)"
   ]
  },
  {
   "cell_type": "code",
   "execution_count": 136,
   "id": "1840112d-d863-4a21-8daf-97a907d4d674",
   "metadata": {},
   "outputs": [
    {
     "name": "stdout",
     "output_type": "stream",
     "text": [
      "my name is :  joy\n",
      "my age is :  25\n",
      "my height is :  5.6\n"
     ]
    }
   ],
   "source": [
    "# format using in String\n",
    "\n",
    "name = 'joy'\n",
    "age = 25\n",
    "height = 5.6\n",
    "\n",
    "print('my name is : ',name)\n",
    "print('my age is : ',age)\n",
    "print('my height is : ',height)"
   ]
  },
  {
   "cell_type": "code",
   "execution_count": 140,
   "id": "44d57b6c-1b27-444d-b666-541d67bc5ca6",
   "metadata": {},
   "outputs": [
    {
     "name": "stdout",
     "output_type": "stream",
     "text": [
      "my name is  joy age is  25 height is  5.6\n",
      "My name joy , height  5.6 and age 25\n",
      "My name is joy, age is 25 and height is 5.6\n"
     ]
    }
   ],
   "source": [
    "print('my name is ',name,'age is ',age,'height is ',height)\n",
    "print('My name {0} , height  {2} and age {1}'.format(name, age, height))\n",
    "print(f'My name is {name}, age is {age} and height is {height}')"
   ]
  },
  {
   "cell_type": "code",
   "execution_count": 142,
   "id": "5019a1a2-ebc5-4839-a842-326d2b93790c",
   "metadata": {},
   "outputs": [
    {
     "name": "stdout",
     "output_type": "stream",
     "text": [
      "name = joy\n",
      "age = 30\n",
      "country = Bangladesh\n"
     ]
    }
   ],
   "source": [
    "for key, value in data.items():\n",
    "    print(f'{key} = {value}')"
   ]
  },
  {
   "cell_type": "code",
   "execution_count": 144,
   "id": "74f4164e-9848-435d-b4c3-bf6279e4b25c",
   "metadata": {},
   "outputs": [
    {
     "name": "stdin",
     "output_type": "stream",
     "text": [
      "Enter your name :  sahil\n",
      "Enter your age :  25\n",
      "Enter your city :  borivali\n"
     ]
    },
    {
     "name": "stdout",
     "output_type": "stream",
     "text": [
      "{'name': 'sahil', 'age': '25', 'city': 'borivali'}\n"
     ]
    }
   ],
   "source": [
    "# how to take user input and store in a dictionary\n",
    "\n",
    "# step 1 : create a dictionary\n",
    "# step 2 : take user input\n",
    "# step 3 : store the input in the dictionary\n",
    "# step 4 : print the dictionary\n",
    "data = {}\n",
    "\n",
    "name = input('Enter your name : ')\n",
    "age = input('Enter your age : ')\n",
    "city = input('Enter your city : ')\n",
    "\n",
    "data['name'] = name\n",
    "data['age'] = age\n",
    "data['city'] = city\n",
    "\n",
    "print(data)"
   ]
  },
  {
   "cell_type": "code",
   "execution_count": 1,
   "id": "4a0c4fa9-d087-4649-a3e2-f68938e03936",
   "metadata": {},
   "outputs": [
    {
     "name": "stdout",
     "output_type": "stream",
     "text": [
      "Defaulting to user installation because normal site-packages is not writeable\n",
      "Requirement already satisfied: pandas in c:\\users\\programming\\appdata\\roaming\\python\\python312\\site-packages (2.2.3)\n",
      "Requirement already satisfied: numpy>=1.26.0 in c:\\users\\programming\\appdata\\roaming\\python\\python312\\site-packages (from pandas) (2.2.1)\n",
      "Requirement already satisfied: python-dateutil>=2.8.2 in c:\\users\\programming\\appdata\\roaming\\python\\python312\\site-packages (from pandas) (2.9.0.post0)\n",
      "Requirement already satisfied: pytz>=2020.1 in c:\\users\\programming\\appdata\\roaming\\python\\python312\\site-packages (from pandas) (2024.2)\n",
      "Requirement already satisfied: tzdata>=2022.7 in c:\\users\\programming\\appdata\\roaming\\python\\python312\\site-packages (from pandas) (2024.2)\n",
      "Requirement already satisfied: six>=1.5 in c:\\users\\programming\\appdata\\roaming\\python\\python312\\site-packages (from python-dateutil>=2.8.2->pandas) (1.17.0)\n",
      "Note: you may need to restart the kernel to use updated packages.\n"
     ]
    }
   ],
   "source": [
    "# 1 apr 2025\n",
    "# pandas in python\n",
    "# https://pandas.pydata.org/\n",
    "\n",
    "# install pandas \n",
    "%pip install pandas"
   ]
  },
  {
   "cell_type": "code",
   "execution_count": 9,
   "id": "25811159-9e6b-4061-98d4-86b3e714c761",
   "metadata": {},
   "outputs": [
    {
     "name": "stdout",
     "output_type": "stream",
     "text": [
      "0          java\n",
      "1        python\n",
      "2           c++\n",
      "3    javascript\n",
      "dtype: object\n"
     ]
    }
   ],
   "source": [
    "# import pandas as pd\n",
    "import pandas as pd\n",
    "\n",
    "# series\n",
    "\n",
    "# what is a series\n",
    "# a series is a one-dimensional labeled array capable of holding any data type\n",
    "# (integers, strings, floating point numbers, python objects, etc.)\n",
    "# the axis labels are collectively called the index\n",
    "\n",
    "# create a series\n",
    "\n",
    "data = [\"java\", \"python\", \"c++\", \"javascript\"]\n",
    "\n",
    "# create a series from a list\n",
    "\n",
    "s = pd.Series(data)\n",
    "print(s)\n"
   ]
  },
  {
   "cell_type": "code",
   "execution_count": 11,
   "id": "206f0483-b7f6-4c82-a760-901aefe7965f",
   "metadata": {},
   "outputs": [
    {
     "name": "stdout",
     "output_type": "stream",
     "text": [
      "name        John\n",
      "age           30\n",
      "city    New York\n",
      "dtype: object\n"
     ]
    }
   ],
   "source": [
    "# create a series from a dictionary\n",
    "data = {\n",
    "    \"name\": \"John\",\n",
    "    \"age\": 30,\n",
    "    \"city\": \"New York\"\n",
    "}\n",
    "s=pd.Series(data)\n",
    "print(s)"
   ]
  },
  {
   "cell_type": "code",
   "execution_count": 15,
   "id": "8192eebb-ac07-4c40-92f0-7faedf8aae5e",
   "metadata": {},
   "outputs": [
    {
     "name": "stdout",
     "output_type": "stream",
     "text": [
      "a          JAVA\n",
      "b        Python\n",
      "c           C++\n",
      "d    JavaScript\n",
      "dtype: object\n"
     ]
    }
   ],
   "source": [
    "# rename the index\n",
    "\n",
    "data = [\"JAVA\", \"Python\", \"C++\", \"JavaScript\"]\n",
    "s=pd.Series(data,index=[\"a\",\"b\",\"c\",\"d\"])\n",
    "print(s)            "
   ]
  },
  {
   "cell_type": "code",
   "execution_count": 17,
   "id": "58d57412-10b2-475a-8734-161f69e34acc",
   "metadata": {},
   "outputs": [
    {
     "name": "stdout",
     "output_type": "stream",
     "text": [
      "    name  age      city\n",
      "0   John   28  New York\n",
      "1   Anna   24     Paris\n",
      "2  Peter   35    Berlin\n"
     ]
    }
   ],
   "source": [
    "#  data frame\n",
    "\n",
    "# what is a data frame\n",
    "# a data frame is a two-dimensional labeled data structure with columns of potentially different types\n",
    "# it is similar to a spreadsheet or SQL table, or a dictionary of Series objects\n",
    "# the data frame has an index and columns\n",
    "\n",
    "# example \n",
    "\n",
    "data = {\n",
    "    \"name\": [\"John\", \"Anna\", \"Peter\"],\n",
    "    \"age\": [28, 24, 35],\n",
    "    \"city\": [\"New York\", \"Paris\", \"Berlin\"]\n",
    "}\n",
    "\n",
    "df=pd.DataFrame(data)\n",
    "print(df)"
   ]
  },
  {
   "cell_type": "code",
   "execution_count": 19,
   "id": "71a7c3e1-b463-4247-8491-45ad7d7959ba",
   "metadata": {},
   "outputs": [
    {
     "name": "stdout",
     "output_type": "stream",
     "text": [
      "    name  age      city\n",
      "a   John   28  New York\n",
      "b   Anna   24     Paris\n",
      "c  Peter   35    Berlin\n"
     ]
    }
   ],
   "source": [
    "# add index\n",
    "data = {\n",
    "    \"name\": [\"John\", \"Anna\", \"Peter\"],\n",
    "    \"age\": [28, 24, 35],\n",
    "    \"city\": [\"New York\", \"Paris\", \"Berlin\"]\n",
    "}\n",
    "df = pd.DataFrame(data, index=[\"a\", \"b\", \"c\"])\n",
    "print(df)"
   ]
  },
  {
   "cell_type": "code",
   "execution_count": 26,
   "id": "f619339f-e384-43ff-a1a5-3530b3dcf29e",
   "metadata": {},
   "outputs": [
    {
     "name": "stdout",
     "output_type": "stream",
     "text": [
      "           id  Gender   Age           City Profession  Academic Pressure  \\\n",
      "0           2    Male  33.0  Visakhapatnam    Student                5.0   \n",
      "1           8  Female  24.0      Bangalore    Student                2.0   \n",
      "2          26    Male  31.0       Srinagar    Student                3.0   \n",
      "3          30  Female  28.0       Varanasi    Student                3.0   \n",
      "4          32  Female  25.0         Jaipur    Student                4.0   \n",
      "...       ...     ...   ...            ...        ...                ...   \n",
      "27896  140685  Female  27.0          Surat    Student                5.0   \n",
      "27897  140686    Male  27.0       Ludhiana    Student                2.0   \n",
      "27898  140689    Male  31.0      Faridabad    Student                3.0   \n",
      "27899  140690  Female  18.0       Ludhiana    Student                5.0   \n",
      "27900  140699    Male  27.0          Patna    Student                4.0   \n",
      "\n",
      "       Work Pressure  CGPA  Study Satisfaction  Job Satisfaction  \\\n",
      "0                0.0  8.97                 2.0               0.0   \n",
      "1                0.0  5.90                 5.0               0.0   \n",
      "2                0.0  7.03                 5.0               0.0   \n",
      "3                0.0  5.59                 2.0               0.0   \n",
      "4                0.0  8.13                 3.0               0.0   \n",
      "...              ...   ...                 ...               ...   \n",
      "27896            0.0  5.75                 5.0               0.0   \n",
      "27897            0.0  9.40                 3.0               0.0   \n",
      "27898            0.0  6.61                 4.0               0.0   \n",
      "27899            0.0  6.88                 2.0               0.0   \n",
      "27900            0.0  9.24                 1.0               0.0   \n",
      "\n",
      "            Sleep Duration Dietary Habits      Degree  \\\n",
      "0              '5-6 hours'        Healthy     B.Pharm   \n",
      "1              '5-6 hours'       Moderate         BSc   \n",
      "2      'Less than 5 hours'        Healthy          BA   \n",
      "3              '7-8 hours'       Moderate         BCA   \n",
      "4              '5-6 hours'       Moderate      M.Tech   \n",
      "...                    ...            ...         ...   \n",
      "27896          '5-6 hours'      Unhealthy  'Class 12'   \n",
      "27897  'Less than 5 hours'        Healthy         MSc   \n",
      "27898          '5-6 hours'      Unhealthy          MD   \n",
      "27899  'Less than 5 hours'        Healthy  'Class 12'   \n",
      "27900  'Less than 5 hours'        Healthy         BCA   \n",
      "\n",
      "      Have you ever had suicidal thoughts ?  Work/Study Hours  \\\n",
      "0                                       Yes               3.0   \n",
      "1                                        No               3.0   \n",
      "2                                        No               9.0   \n",
      "3                                       Yes               4.0   \n",
      "4                                       Yes               1.0   \n",
      "...                                     ...               ...   \n",
      "27896                                   Yes               7.0   \n",
      "27897                                    No               0.0   \n",
      "27898                                    No              12.0   \n",
      "27899                                   Yes              10.0   \n",
      "27900                                   Yes               2.0   \n",
      "\n",
      "      Financial Stress Family History of Mental Illness  Depression  \n",
      "0                  1.0                               No           1  \n",
      "1                  2.0                              Yes           0  \n",
      "2                  1.0                              Yes           0  \n",
      "3                  5.0                              Yes           1  \n",
      "4                  1.0                               No           0  \n",
      "...                ...                              ...         ...  \n",
      "27896              1.0                              Yes           0  \n",
      "27897              3.0                              Yes           0  \n",
      "27898              2.0                               No           0  \n",
      "27899              5.0                               No           1  \n",
      "27900              3.0                              Yes           1  \n",
      "\n",
      "[27901 rows x 18 columns]\n"
     ]
    }
   ],
   "source": [
    "# read csv file\n",
    "\n",
    "data = pd.read_csv(\"student_depression_dataset.csv\")\n",
    "print(data)"
   ]
  },
  {
   "cell_type": "code",
   "execution_count": 28,
   "id": "a5697c8b-2fc2-4720-87f3-8a9359a98877",
   "metadata": {},
   "outputs": [
    {
     "name": "stdout",
     "output_type": "stream",
     "text": [
      "   id  Gender   Age           City Profession  Academic Pressure  \\\n",
      "0   2    Male  33.0  Visakhapatnam    Student                5.0   \n",
      "1   8  Female  24.0      Bangalore    Student                2.0   \n",
      "2  26    Male  31.0       Srinagar    Student                3.0   \n",
      "3  30  Female  28.0       Varanasi    Student                3.0   \n",
      "4  32  Female  25.0         Jaipur    Student                4.0   \n",
      "\n",
      "   Work Pressure  CGPA  Study Satisfaction  Job Satisfaction  \\\n",
      "0            0.0  8.97                 2.0               0.0   \n",
      "1            0.0  5.90                 5.0               0.0   \n",
      "2            0.0  7.03                 5.0               0.0   \n",
      "3            0.0  5.59                 2.0               0.0   \n",
      "4            0.0  8.13                 3.0               0.0   \n",
      "\n",
      "        Sleep Duration Dietary Habits   Degree  \\\n",
      "0          '5-6 hours'        Healthy  B.Pharm   \n",
      "1          '5-6 hours'       Moderate      BSc   \n",
      "2  'Less than 5 hours'        Healthy       BA   \n",
      "3          '7-8 hours'       Moderate      BCA   \n",
      "4          '5-6 hours'       Moderate   M.Tech   \n",
      "\n",
      "  Have you ever had suicidal thoughts ?  Work/Study Hours Financial Stress  \\\n",
      "0                                   Yes               3.0              1.0   \n",
      "1                                    No               3.0              2.0   \n",
      "2                                    No               9.0              1.0   \n",
      "3                                   Yes               4.0              5.0   \n",
      "4                                   Yes               1.0              1.0   \n",
      "\n",
      "  Family History of Mental Illness  Depression  \n",
      "0                               No           1  \n",
      "1                              Yes           0  \n",
      "2                              Yes           0  \n",
      "3                              Yes           1  \n",
      "4                               No           0  \n"
     ]
    }
   ],
   "source": [
    "# print the first 5 rows\n",
    "\n",
    "print(data.head())"
   ]
  },
  {
   "cell_type": "code",
   "execution_count": 30,
   "id": "00c00564-1554-4d18-b241-4c06ec6d0681",
   "metadata": {},
   "outputs": [
    {
     "name": "stdout",
     "output_type": "stream",
     "text": [
      "(27901, 18)\n"
     ]
    }
   ],
   "source": [
    "# find the shape of the data frame\n",
    "print(data.shape)"
   ]
  },
  {
   "cell_type": "code",
   "execution_count": 32,
   "id": "be25dc08-a51e-4370-aeb4-4fc3624d0641",
   "metadata": {},
   "outputs": [
    {
     "name": "stdout",
     "output_type": "stream",
     "text": [
      "Index(['id', 'Gender', 'Age', 'City', 'Profession', 'Academic Pressure',\n",
      "       'Work Pressure', 'CGPA', 'Study Satisfaction', 'Job Satisfaction',\n",
      "       'Sleep Duration', 'Dietary Habits', 'Degree',\n",
      "       'Have you ever had suicidal thoughts ?', 'Work/Study Hours',\n",
      "       'Financial Stress', 'Family History of Mental Illness', 'Depression'],\n",
      "      dtype='object')\n"
     ]
    }
   ],
   "source": [
    "# get all columns name \n",
    "print(data.columns)"
   ]
  },
  {
   "cell_type": "code",
   "execution_count": 34,
   "id": "07db359e-dae1-434e-80f0-79e9ca8f08dc",
   "metadata": {},
   "outputs": [
    {
     "name": "stdout",
     "output_type": "stream",
     "text": [
      "                  id           Age  Academic Pressure  Work Pressure  \\\n",
      "count   27901.000000  27901.000000       27901.000000   27901.000000   \n",
      "mean    70442.149421     25.822300           3.141214       0.000430   \n",
      "std     40641.175216      4.905687           1.381465       0.043992   \n",
      "min         2.000000     18.000000           0.000000       0.000000   \n",
      "25%     35039.000000     21.000000           2.000000       0.000000   \n",
      "50%     70684.000000     25.000000           3.000000       0.000000   \n",
      "75%    105818.000000     30.000000           4.000000       0.000000   \n",
      "max    140699.000000     59.000000           5.000000       5.000000   \n",
      "\n",
      "               CGPA  Study Satisfaction  Job Satisfaction  Work/Study Hours  \\\n",
      "count  27901.000000        27901.000000      27901.000000      27901.000000   \n",
      "mean       7.656104            2.943837          0.000681          7.156984   \n",
      "std        1.470707            1.361148          0.044394          3.707642   \n",
      "min        0.000000            0.000000          0.000000          0.000000   \n",
      "25%        6.290000            2.000000          0.000000          4.000000   \n",
      "50%        7.770000            3.000000          0.000000          8.000000   \n",
      "75%        8.920000            4.000000          0.000000         10.000000   \n",
      "max       10.000000            5.000000          4.000000         12.000000   \n",
      "\n",
      "         Depression  \n",
      "count  27901.000000  \n",
      "mean       0.585499  \n",
      "std        0.492645  \n",
      "min        0.000000  \n",
      "25%        0.000000  \n",
      "50%        1.000000  \n",
      "75%        1.000000  \n",
      "max        1.000000  \n"
     ]
    }
   ],
   "source": [
    "print(data.describe())"
   ]
  },
  {
   "cell_type": "code",
   "execution_count": 36,
   "id": "d21c6522-d693-42dd-a481-ffb5c3ab3afa",
   "metadata": {},
   "outputs": [
    {
     "name": "stdout",
     "output_type": "stream",
     "text": [
      "id                                         int64\n",
      "Gender                                    object\n",
      "Age                                      float64\n",
      "City                                      object\n",
      "Profession                                object\n",
      "Academic Pressure                        float64\n",
      "Work Pressure                            float64\n",
      "CGPA                                     float64\n",
      "Study Satisfaction                       float64\n",
      "Job Satisfaction                         float64\n",
      "Sleep Duration                            object\n",
      "Dietary Habits                            object\n",
      "Degree                                    object\n",
      "Have you ever had suicidal thoughts ?     object\n",
      "Work/Study Hours                         float64\n",
      "Financial Stress                          object\n",
      "Family History of Mental Illness          object\n",
      "Depression                                 int64\n",
      "dtype: object\n"
     ]
    }
   ],
   "source": [
    "# get the data types of each column\n",
    "print(data.dtypes)"
   ]
  },
  {
   "cell_type": "code",
   "execution_count": 40,
   "id": "3d974609-f6c3-4108-84f6-9f52f6dc01da",
   "metadata": {},
   "outputs": [
    {
     "name": "stdout",
     "output_type": "stream",
     "text": [
      "0        Visakhapatnam\n",
      "1            Bangalore\n",
      "2             Srinagar\n",
      "3             Varanasi\n",
      "4               Jaipur\n",
      "             ...      \n",
      "27896            Surat\n",
      "27897         Ludhiana\n",
      "27898        Faridabad\n",
      "27899         Ludhiana\n",
      "27900            Patna\n",
      "Name: City, Length: 27901, dtype: object 0        33.0\n",
      "1        24.0\n",
      "2        31.0\n",
      "3        28.0\n",
      "4        25.0\n",
      "         ... \n",
      "27896    27.0\n",
      "27897    27.0\n",
      "27898    31.0\n",
      "27899    18.0\n",
      "27900    27.0\n",
      "Name: Age, Length: 27901, dtype: float64\n"
     ]
    }
   ],
   "source": [
    "# get specific column\n",
    "print(data[\"City\"], data[\"Age\"])"
   ]
  },
  {
   "cell_type": "code",
   "execution_count": 42,
   "id": "f6ea8438-025a-4dd6-9d46-524428d2bdbd",
   "metadata": {},
   "outputs": [
    {
     "name": "stdout",
     "output_type": "stream",
     "text": [
      "id                                                        33\n",
      "Gender                                                  Male\n",
      "Age                                                     29.0\n",
      "City                                                    Pune\n",
      "Profession                                           Student\n",
      "Academic Pressure                                        2.0\n",
      "Work Pressure                                            0.0\n",
      "CGPA                                                     5.7\n",
      "Study Satisfaction                                       3.0\n",
      "Job Satisfaction                                         0.0\n",
      "Sleep Duration                           'Less than 5 hours'\n",
      "Dietary Habits                                       Healthy\n",
      "Degree                                                   PhD\n",
      "Have you ever had suicidal thoughts ?                     No\n",
      "Work/Study Hours                                         4.0\n",
      "Financial Stress                                         1.0\n",
      "Family History of Mental Illness                          No\n",
      "Depression                                                 0\n",
      "Name: 5, dtype: object\n"
     ]
    }
   ],
   "source": [
    "# get specific row\n",
    "print(data.iloc[5])"
   ]
  },
  {
   "cell_type": "code",
   "execution_count": 44,
   "id": "6b478e3c-b82e-44a8-9d3e-6a931d6f87a5",
   "metadata": {},
   "outputs": [
    {
     "name": "stdout",
     "output_type": "stream",
     "text": [
      "29.0\n"
     ]
    }
   ],
   "source": [
    "# get specific row and column\n",
    "\n",
    "print(data.iloc[5, 2])"
   ]
  },
  {
   "cell_type": "code",
   "execution_count": 48,
   "id": "c4f8f9a3-4b8d-41cd-a2d7-a9d3227d1c94",
   "metadata": {},
   "outputs": [],
   "source": [
    "# find the employee with  age is more than 30\n",
    "\n",
    "new_data = data[data[\"Age\"] > 30]\n",
    "\n",
    "# write the new data to a csv file\n",
    "new_data.to_csv(\"student_depression_dataset.csv\", index=False)"
   ]
  },
  {
   "cell_type": "code",
   "execution_count": 56,
   "id": "00357a1c-4856-4b47-8cca-f47b0e0e83f4",
   "metadata": {},
   "outputs": [
    {
     "name": "stdout",
     "output_type": "stream",
     "text": [
      "id                                         int64\n",
      "Gender                                    object\n",
      "Age                                      float64\n",
      "City                                      object\n",
      "Profession                                object\n",
      "Academic Pressure                        float64\n",
      "Work Pressure                            float64\n",
      "CGPA                                     float64\n",
      "Study Satisfaction                       float64\n",
      "Job Satisfaction                         float64\n",
      "Sleep Duration                            object\n",
      "Dietary Habits                            object\n",
      "Degree                                    object\n",
      "Have you ever had suicidal thoughts ?     object\n",
      "Work/Study Hours                         float64\n",
      "Financial Stress                          object\n",
      "Family History of Mental Illness          object\n",
      "Depression                                 int64\n",
      "dtype: object\n"
     ]
    }
   ],
   "source": [
    "# check the data types of each column\n",
    "print(data.dtypes)"
   ]
  },
  {
   "cell_type": "code",
   "execution_count": 26,
   "id": "bdd3c2b6-fed8-458b-9e41-9067af3c2885",
   "metadata": {},
   "outputs": [
    {
     "data": {
      "image/png": "[encoded data removed]",
      "text/plain": [
       "<Figure size 640x480 with 1 Axes>"
      ]
     },
     "metadata": {},
     "output_type": "display_data"
    }
   ],
   "source": [
    "# 03 apr 2025\n",
    "#Line Plot: A simple line plot showing a sine wave.\n",
    "import matplotlib.pyplot as plt\n",
    "import numpy as np\n",
    "x = np.linspace(0, 2 * np.pi, 100)\n",
    "y = np.sin(x)\n",
    "plt.plot(x, y)\n",
    "plt.xlabel('X-axis')\n",
    "plt.ylabel('Y-axis')\n",
    "plt.title('Sine Wave')\n",
    "plt.show()\n"
   ]
  },
  {
   "cell_type": "code",
   "execution_count": 64,
   "id": "3c517ded-cd75-4faa-8c98-f260a39115b7",
   "metadata": {},
   "outputs": [
    {
     "data": {
      "image/png": "[encoded data removed]",
      "text/plain": [
       "<Figure size 640x480 with 1 Axes>"
      ]
     },
     "metadata": {},
     "output_type": "display_data"
    }
   ],
   "source": [
    "#Scatter Plot: A scatter plot with random data points.\n",
    "import matplotlib.pyplot as plt\n",
    "import numpy as np\n",
    "x = np.random.rand(50)\n",
    "y = np.random.rand(50)\n",
    "plt.scatter(x, y)\n",
    "plt.xlabel('X-axis')\n",
    "plt.ylabel('Y-axis')\n",
    "plt.title('Scatter Plot')\n",
    "plt.show()"
   ]
  },
  {
   "cell_type": "code",
   "execution_count": 66,
   "id": "8a66ebcd-ef03-437b-9892-46478376f6a3",
   "metadata": {},
   "outputs": [
    {
     "data": {
      "image/png": "[encoded data removed]",
      "text/plain": [
       "<Figure size 640x480 with 1 Axes>"
      ]
     },
     "metadata": {},
     "output_type": "display_data"
    }
   ],
   "source": [
    "#Bar Plot: A bar plot displaying data with categories.\n",
    "\n",
    "import matplotlib.pyplot as plt\n",
    "categories = ['Category A', 'Category B', 'Category C']\n",
    "values = [25, 40, 30]\n",
    "plt.bar(categories, values)\n",
    "plt.xlabel('Categories')\n",
    "plt.ylabel('Values')\n",
    "plt.title('Bar Plot')\n",
    "plt.show()"
   ]
  },
  {
   "cell_type": "code",
   "execution_count": 68,
   "id": "ae3befbb-eb9e-428d-b942-52835fb50f7b",
   "metadata": {},
   "outputs": [
    {
     "data": {
      "image/png": "[encoded data removed]",
      "text/plain": [
       "<Figure size 640x480 with 1 Axes>"
      ]
     },
     "metadata": {},
     "output_type": "display_data"
    }
   ],
   "source": [
    "#Histogram: A histogram showing the distribution of a dataset.\n",
    "\n",
    "import matplotlib.pyplot as plt\n",
    "import numpy as np\n",
    "data = np.random.randn(1000)  # Generating random data\n",
    "plt.hist(data, bins=20, color='skyblue', edgecolor='black')\n",
    "plt.xlabel('Values')\n",
    "plt.ylabel('Frequency')\n",
    "plt.title('Histogram')\n",
    "plt.show()"
   ]
  },
  {
   "cell_type": "code",
   "execution_count": 70,
   "id": "ae73141e-a992-467f-a185-38aba2c16c51",
   "metadata": {},
   "outputs": [
    {
     "data": {
      "image/png": "[encoded data removed]",
      "text/plain": [
       "<Figure size 640x480 with 1 Axes>"
      ]
     },
     "metadata": {},
     "output_type": "display_data"
    }
   ],
   "source": [
    "#Pie Chart: A pie chart displaying the distribution of a dataset.\n",
    "\n",
    "import matplotlib.pyplot as plt\n",
    "labels = 'A', 'B', 'C', 'D'\n",
    "sizes = [15, 30, 45, 10]\n",
    "colors = ['gold', 'yellowgreen', 'lightcoral', 'lightskyblue']\n",
    "plt.pie(sizes, labels=labels, colors=colors, autopct='%1.1f%%', shadow=True)\n",
    "plt.axis('equal')  # Equal aspect ratio ensures a circular pie\n",
    "plt.title('Pie Chart')\n",
    "plt.show()"
   ]
  },
  {
   "cell_type": "code",
   "execution_count": 72,
   "id": "deadc668-1070-445c-88bb-bc5a6b42fd32",
   "metadata": {},
   "outputs": [
    {
     "data": {
      "image/png": "[encoded data removed]",
      "text/plain": [
       "<Figure size 640x480 with 1 Axes>"
      ]
     },
     "metadata": {},
     "output_type": "display_data"
    }
   ],
   "source": [
    "# Box Plot: A box plot for visualizing the distribution of a dataset.\n",
    "\n",
    "import matplotlib.pyplot as plt\n",
    "import numpy as np\n",
    "data = [np.random.normal(0, std, 100) for std in range(1, 4)]\n",
    "plt.boxplot(data, vert=True, patch_artist=True)\n",
    "plt.xlabel('Data Sets')\n",
    "plt.ylabel('Values')\n",
    "plt.title('Box Plot')\n",
    "plt.show()"
   ]
  },
  {
   "cell_type": "code",
   "execution_count": 74,
   "id": "962bf66c-ee9e-40ae-b14e-cd2846226283",
   "metadata": {},
   "outputs": [
    {
     "data": {
      "image/png": "[encoded data removed]",
      "text/plain": [
       "<Figure size 640x480 with 2 Axes>"
      ]
     },
     "metadata": {},
     "output_type": "display_data"
    }
   ],
   "source": [
    "#Heatmap: A heatmap to visualize a matrix of data.\n",
    "\n",
    "import matplotlib.pyplot as plt\n",
    "import numpy as np\n",
    "data = np.random.rand(10, 10)\n",
    "plt.imshow(data, cmap='viridis')\n",
    "plt.colorbar()\n",
    "plt.title('Heatmap')\n",
    "plt.show()"
   ]
  },
  {
   "cell_type": "code",
   "execution_count": null,
   "id": "19795304-4868-409e-bcb9-3f2a5bc31639",
   "metadata": {},
   "outputs": [],
   "source": [
    "# 05 apr 2025\n",
    "# numpy in python \n",
    "# https://cwpc.in/mastering-numpy-a-comprehensive-guide-codes-with-pankaj-178e191a9143\n"
   ]
  },
  {
   "cell_type": "code",
   "execution_count": 28,
   "id": "6c97a03f-894b-4c3c-b2ae-6a561b4cba63",
   "metadata": {},
   "outputs": [
    {
     "name": "stdout",
     "output_type": "stream",
     "text": [
      "Defaulting to user installation because normal site-packages is not writeableNote: you may need to restart the kernel to use updated packages.\n",
      "\n",
      "Requirement already satisfied: numpy in c:\\users\\programming\\appdata\\roaming\\python\\python312\\site-packages (2.2.1)\n"
     ]
    }
   ],
   "source": [
    "# install numpy in python\n",
    "%pip install numpy"
   ]
  },
  {
   "cell_type": "code",
   "execution_count": 34,
   "id": "71cb982b-f479-4f63-ac89-1106a115b533",
   "metadata": {},
   "outputs": [
    {
     "name": "stdout",
     "output_type": "stream",
     "text": [
      "[11 12 13 14 15]\n"
     ]
    }
   ],
   "source": [
    "# inport numpy in python\n",
    "import numpy as np\n",
    "# create a numpy array in python\n",
    "a = np.array([11,12,13,14,15])\n",
    "print(a)"
   ]
  },
  {
   "cell_type": "code",
   "execution_count": 36,
   "id": "5e77e972-2e9e-4220-8605-6aa9178a129f",
   "metadata": {},
   "outputs": [
    {
     "name": "stdout",
     "output_type": "stream",
     "text": [
      "11\n",
      "12\n"
     ]
    }
   ],
   "source": [
    "# access elements in numpy array in python\n",
    "print(a[0]) # first element\n",
    "print(a[1]) # second element"
   ]
  },
  {
   "cell_type": "code",
   "execution_count": 38,
   "id": "3f8f799d-5e11-43b8-bc8a-d41b7b509678",
   "metadata": {},
   "outputs": [
    {
     "name": "stdout",
     "output_type": "stream",
     "text": [
      "[100  12  13  14  15]\n"
     ]
    }
   ],
   "source": [
    "# modify elements in numpy array in python\n",
    "a[0] = 100\n",
    "print(a) # first element is modified to 100"
   ]
  },
  {
   "cell_type": "code",
   "execution_count": 40,
   "id": "557de99d-7718-4d2b-84cb-a525e5ab6aea",
   "metadata": {},
   "outputs": [
    {
     "name": "stdout",
     "output_type": "stream",
     "text": [
      "2.2.1\n"
     ]
    }
   ],
   "source": [
    "# cheking version of numpy in python\n",
    "print(np.__version__) # print version of numpy"
   ]
  },
  {
   "cell_type": "code",
   "execution_count": 42,
   "id": "ce6c209f-29f3-4cd3-bff1-faa478d1e4ec",
   "metadata": {},
   "outputs": [
    {
     "name": "stdout",
     "output_type": "stream",
     "text": [
      "[[0. 0. 0. 0.]\n",
      " [0. 0. 0. 0.]\n",
      " [0. 0. 0. 0.]]\n"
     ]
    }
   ],
   "source": [
    "# create a numpy array with zeros in python\n",
    "a = np.zeros((3, 4)) # 3 rows and 4 columns\n",
    "print(a) # print numpy array with zeros"
   ]
  },
  {
   "cell_type": "code",
   "execution_count": 44,
   "id": "1fc40a4d-eec2-4379-9ed2-036c3b011a76",
   "metadata": {},
   "outputs": [
    {
     "name": "stdout",
     "output_type": "stream",
     "text": [
      "[[1 2 3]\n",
      " [4 5 6]\n",
      " [7 8 9]]\n"
     ]
    }
   ],
   "source": [
    "# create 2d numpy array in python\n",
    "a = np.array([[1, 2, 3], [4, 5, 6], [7, 8, 9]]) # 3 rows and 3 columns\n",
    "print(a) # print 2d numpy array"
   ]
  },
  {
   "cell_type": "code",
   "execution_count": 46,
   "id": "4db29b91-cabe-49f8-8089-06af2a1f7ce4",
   "metadata": {},
   "outputs": [
    {
     "name": "stdout",
     "output_type": "stream",
     "text": [
      "[[[1 2]\n",
      "  [3 4]]\n",
      "\n",
      " [[5 6]\n",
      "  [7 8]]]\n",
      "(2, 2, 2)\n"
     ]
    }
   ],
   "source": [
    "# create a 3d numpy array in python\n",
    "a = np.array([[[1, 2], [3, 4]], [[5, 6], [7, 8]]]) # 2 layers, 2 rows and 2 columns\n",
    "\n",
    "print(a) # print 3d numpy array\n",
    "print(a.shape) # print shape of 3d numpy array"
   ]
  },
  {
   "cell_type": "code",
   "execution_count": 48,
   "id": "188b20db-51c0-46d1-935b-0276a2a277ae",
   "metadata": {},
   "outputs": [
    {
     "name": "stdout",
     "output_type": "stream",
     "text": [
      "3\n"
     ]
    }
   ],
   "source": [
    "# check the demensions of numpy array in python\n",
    "print(a.ndim) # print number of dimensions of numpy array"
   ]
  },
  {
   "cell_type": "code",
   "execution_count": 50,
   "id": "3e37ee0f-c254-4351-bd44-2da82f5b6e32",
   "metadata": {},
   "outputs": [
    {
     "name": "stdout",
     "output_type": "stream",
     "text": [
      "[[[[1 2]\n",
      "   [3 4]]\n",
      "\n",
      "  [[5 6]\n",
      "   [7 8]]]]\n",
      "(1, 2, 2, 2)\n"
     ]
    }
   ],
   "source": [
    "# Higher-Dimensional Arrays\n",
    "# create a 4d numpy array in python\n",
    "a = np.array([[[[1, 2], [3, 4]], [[5, 6], [7, 8]]]]) # 1 layer, 2 rows and 2 columns\n",
    "print(a) # print 4d numpy array\n",
    "print(a.shape) # print shape of 4d numpy array"
   ]
  },
  {
   "cell_type": "code",
   "execution_count": 52,
   "id": "4e8e77c7-78b3-439f-b9b3-3974980365b9",
   "metadata": {},
   "outputs": [
    {
     "name": "stdout",
     "output_type": "stream",
     "text": [
      "[[1 3]\n",
      " [5 7]]\n"
     ]
    }
   ],
   "source": [
    "# Ellipsis (…) Indexing\n",
    "arr_3d = np.array([[[1, 2], [3, 4]], [[5, 6], [7, 8]]])\n",
    "print(arr_3d[..., 0])  # Access the first element along the third dimension ([[1, 3], [5, 7]])"
   ]
  }
 ],
 "metadata": {
  "kernelspec": {
   "display_name": "Python 3 (ipykernel)",
   "language": "python",
   "name": "python3"
  },
  "language_info": {
   "codemirror_mode": {
    "name": "ipython",
    "version": 3
   },
   "file_extension": ".py",
   "mimetype": "text/x-python",
   "name": "python",
   "nbconvert_exporter": "python",
   "pygments_lexer": "ipython3",
   "version": "3.12.7"
  }
 },
 "nbformat": 4,
 "nbformat_minor": 5
}

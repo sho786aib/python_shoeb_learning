{
 "cells": [
  {
   "cell_type": "code",
   "execution_count": 2,
   "id": "4de319f0-d68d-4eec-8148-d0e0405bcb3c",
   "metadata": {},
   "outputs": [
    {
     "name": "stdout",
     "output_type": "stream",
     "text": [
      "welcome to codeswithpankaj.com\n"
     ]
    }
   ],
   "source": [
    "#18 mar 25\n",
    "# print()\n",
    "print(\"welcome to codeswithpankaj.com\")"
   ]
  },
  {
   "cell_type": "code",
   "execution_count": 4,
   "id": "17f4730e-e04a-4e82-a878-caad2bb0f36c",
   "metadata": {},
   "outputs": [
    {
     "name": "stdout",
     "output_type": "stream",
     "text": [
      "welcome to blog cwpc.in\n"
     ]
    }
   ],
   "source": [
    "print('welcome to blog cwpc.in')"
   ]
  },
  {
   "cell_type": "code",
   "execution_count": 6,
   "id": "f8a6f702-d3be-41db-9eb6-003696c68197",
   "metadata": {},
   "outputs": [
    {
     "name": "stdout",
     "output_type": "stream",
     "text": [
      "'cwpc.in'\n",
      "\"codeswithpankaj.com\"\n"
     ]
    }
   ],
   "source": [
    "print(\"'cwpc.in'\")\n",
    "print('\"codeswithpankaj.com\"')"
   ]
  },
  {
   "cell_type": "code",
   "execution_count": 8,
   "id": "e1ba8a20-d326-4a9d-b2b9-097caf0584b1",
   "metadata": {},
   "outputs": [
    {
     "name": "stdout",
     "output_type": "stream",
     "text": [
      "this is number  10\n"
     ]
    }
   ],
   "source": [
    "# variable\n",
    "number = 10\n",
    "print('this is number ',number)"
   ]
  },
  {
   "cell_type": "code",
   "execution_count": 10,
   "id": "0497a4a3-93f5-480c-8df9-46712cb69873",
   "metadata": {},
   "outputs": [
    {
     "name": "stdout",
     "output_type": "stream",
     "text": [
      "My name is   Nishant\n",
      "My age is   23\n",
      "height is  4.5\n"
     ]
    }
   ],
   "source": [
    "name = \"Nishant\"\n",
    "age = 23\n",
    "height = 4.5\n",
    "\n",
    "print(\"My name is  \",name)\n",
    "print(\"My age is  \",age)\n",
    "print(\"height is \",height)"
   ]
  },
  {
   "cell_type": "code",
   "execution_count": 12,
   "id": "52d1129f-5724-43ee-a144-bd885a047f6f",
   "metadata": {},
   "outputs": [
    {
     "name": "stdin",
     "output_type": "stream",
     "text": [
      "Enter Your Name  shoeb\n",
      "Enter Your Age  23\n",
      "Enter Your height  5.5\n"
     ]
    },
    {
     "name": "stdout",
     "output_type": "stream",
     "text": [
      "My name is   shoeb\n",
      "My age is   23\n",
      "height is  5.5\n"
     ]
    }
   ],
   "source": [
    "# int()\n",
    "# float()\n",
    "# str()\n",
    "\n",
    "name = str(input('Enter Your Name '))\n",
    "age = int(input('Enter Your Age '))\n",
    "height = float(input('Enter Your height '))\n",
    "\n",
    "print(\"My name is  \",name)\n",
    "print(\"My age is  \",age)\n",
    "print(\"height is \",height)"
   ]
  },
  {
   "cell_type": "code",
   "execution_count": 16,
   "id": "04ca025a-9933-465b-831d-18a752ac3752",
   "metadata": {},
   "outputs": [
    {
     "name": "stdout",
     "output_type": "stream",
     "text": [
      "181\n",
      "135\n",
      "3634\n",
      "6.869565217391305\n",
      "6\n",
      "20\n",
      "24964\n"
     ]
    }
   ],
   "source": [
    "# 20 mar 25\n",
    "#Arithmetic Operators\n",
    "x = 158\n",
    "y = 23\n",
    "\n",
    "print(x + y)\n",
    "print(x - y)\n",
    "print(x * y)\n",
    "print(x / y)\n",
    "print(x // y)\n",
    "print(x % y)\n",
    "print(x ** 2)"
   ]
  },
  {
   "cell_type": "code",
   "execution_count": 18,
   "id": "f56397af-88c6-49a0-960c-c946040681b3",
   "metadata": {},
   "outputs": [
    {
     "name": "stdout",
     "output_type": "stream",
     "text": [
      "True\n",
      "False\n",
      "False\n",
      "True\n",
      "True\n",
      "False\n"
     ]
    }
   ],
   "source": [
    "#Comparison Operators\n",
    "print(23 < 34)\n",
    "print(23 > 34)\n",
    "print(23 == 34)\n",
    "print(23 != 34)\n",
    "print(23 <= 34)\n",
    "print(23 >= 34)"
   ]
  },
  {
   "cell_type": "code",
   "execution_count": 20,
   "id": "b5df34e2-2f6c-4075-b071-71cca8c57816",
   "metadata": {},
   "outputs": [
    {
     "name": "stdout",
     "output_type": "stream",
     "text": [
      "False\n",
      "True\n",
      "False\n"
     ]
    }
   ],
   "source": [
    "#Logical Operators\n",
    "# and\n",
    "print(23 == 67 and 78 < 100) \n",
    "# or \n",
    "print(23 == 67 or 78 < 100) \n",
    "# not \n",
    "print( not 34 == 34)"
   ]
  },
  {
   "cell_type": "code",
   "execution_count": 22,
   "id": "7e3f36dc-a706-4209-ad2b-5e2f51385860",
   "metadata": {},
   "outputs": [
    {
     "name": "stdout",
     "output_type": "stream",
     "text": [
      "10\n",
      "20\n",
      "10\n",
      "100\n",
      "10.0\n"
     ]
    }
   ],
   "source": [
    "#Assignment Operators\n",
    "a = 10 \n",
    "print(a)\n",
    "\n",
    "# a = a + 10\n",
    "a += 10\n",
    "print(a)\n",
    "a -= 10\n",
    "print(a)\n",
    "a *= 10\n",
    "print(a)\n",
    "a /= 10\n",
    "print(a)"
   ]
  },
  {
   "cell_type": "code",
   "execution_count": 24,
   "id": "49fda978-4d06-4bd9-9ca1-9cc2d7c4c328",
   "metadata": {},
   "outputs": [
    {
     "name": "stdout",
     "output_type": "stream",
     "text": [
      "False\n",
      "True\n"
     ]
    }
   ],
   "source": [
    "#Identity Operators\n",
    "#is \n",
    "a = 10\n",
    "b = 20\n",
    "print(a is b)\n",
    "# is not\n",
    "print(a is not b)\n"
   ]
  },
  {
   "cell_type": "code",
   "execution_count": 26,
   "id": "4775d529-e57e-413e-a1c2-9ff6ae28a565",
   "metadata": {},
   "outputs": [
    {
     "name": "stdout",
     "output_type": "stream",
     "text": [
      "True\n",
      "False\n"
     ]
    }
   ],
   "source": [
    "#Membership Operators\n",
    "web = \"codeswithpankaj.com\"\n",
    "print('c' in web)\n",
    "print('c' not in web)"
   ]
  },
  {
   "cell_type": "code",
   "execution_count": 28,
   "id": "c3eb08fb-a254-450a-bdc2-d5ebc0af4997",
   "metadata": {},
   "outputs": [
    {
     "name": "stdout",
     "output_type": "stream",
     "text": [
      "a is smallest\n"
     ]
    }
   ],
   "source": [
    "# if else\n",
    "\n",
    "a = 10 \n",
    "b = 78\n",
    "\n",
    "# find the smallest values \n",
    "\n",
    "if a < b :\n",
    "    print(\"a is smallest\")\n",
    "else:\n",
    "    print(\"a is not smallest ...\")    "
   ]
  },
  {
   "cell_type": "code",
   "execution_count": 32,
   "id": "3ec1fb9a-f5a7-428a-a11c-048b0faecbf9",
   "metadata": {},
   "outputs": [
    {
     "name": "stdout",
     "output_type": "stream",
     "text": [
      " b is smallest ...\n"
     ]
    }
   ],
   "source": [
    "a = 100\n",
    "b = 20\n",
    "c = 30\n",
    "\n",
    "if a < b and a < c:\n",
    "    print(' a is smallest ...')\n",
    "elif b < a and b < c:\n",
    "    print(\" b is smallest ...\")\n",
    "else:\n",
    "    print(' c is smallest ...')  "
   ]
  },
  {
   "cell_type": "code",
   "execution_count": 1,
   "id": "4ee51d3e-74b1-489b-963d-8c76380287c5",
   "metadata": {},
   "outputs": [
    {
     "name": "stdout",
     "output_type": "stream",
     "text": [
      "c\n",
      "o\n",
      "d\n",
      "e\n",
      "s\n",
      "w\n",
      "i\n",
      "t\n",
      "h\n",
      "p\n",
      "a\n",
      "n\n",
      "k\n",
      "a\n",
      "j\n"
     ]
    }
   ],
   "source": [
    "#22 mar 25\n",
    "web=\"codeswithpankaj\"\n",
    "for i in web:\n",
    "    print(i)"
   ]
  },
  {
   "cell_type": "code",
   "execution_count": 3,
   "id": "7d32b7be-47ce-4fa3-9be4-aaac1ab6a96f",
   "metadata": {},
   "outputs": [
    {
     "name": "stdout",
     "output_type": "stream",
     "text": [
      "0\n",
      "1\n",
      "2\n",
      "3\n",
      "4\n",
      "5\n",
      "6\n",
      "7\n",
      "8\n",
      "9\n",
      "10\n",
      "11\n",
      "12\n",
      "13\n",
      "14\n",
      "15\n",
      "16\n",
      "17\n",
      "18\n",
      "19\n"
     ]
    }
   ],
   "source": [
    "## range(EndValue) # start 0\n",
    "for i in range(20):\n",
    "    print(i)"
   ]
  },
  {
   "cell_type": "code",
   "execution_count": 5,
   "id": "6c7330e3-643a-49b2-9d12-95c8aa2bd2aa",
   "metadata": {},
   "outputs": [
    {
     "name": "stdout",
     "output_type": "stream",
     "text": [
      "10\n",
      "11\n",
      "12\n",
      "13\n",
      "14\n",
      "15\n",
      "16\n",
      "17\n",
      "18\n",
      "19\n",
      "20\n",
      "21\n"
     ]
    }
   ],
   "source": [
    "## range(start,end)\n",
    "for i in range(10,22):\n",
    "    print(i)"
   ]
  },
  {
   "cell_type": "code",
   "execution_count": 9,
   "id": "50e5c368-549a-4d2b-b628-f9f9e1882f85",
   "metadata": {},
   "outputs": [
    {
     "name": "stdout",
     "output_type": "stream",
     "text": [
      "1\n",
      "3\n",
      "5\n",
      "7\n",
      "9\n"
     ]
    }
   ],
   "source": [
    "# range(start,end,steps)\n",
    "for i in range(1,10,2):\n",
    "    print(i)\n"
   ]
  },
  {
   "cell_type": "code",
   "execution_count": 11,
   "id": "dc51a0c2-7c9a-424f-a2f5-e7bfff4fece2",
   "metadata": {},
   "outputs": [
    {
     "name": "stdin",
     "output_type": "stream",
     "text": [
      "enter start number  11\n",
      "enter end number  30\n"
     ]
    },
    {
     "name": "stdout",
     "output_type": "stream",
     "text": [
      "11\n",
      "12\n",
      "13\n",
      "14\n",
      "15\n",
      "16\n",
      "17\n",
      "18\n",
      "19\n",
      "20\n",
      "21\n",
      "22\n",
      "23\n",
      "24\n",
      "25\n",
      "26\n",
      "27\n",
      "28\n",
      "29\n",
      "30\n"
     ]
    }
   ],
   "source": [
    "# take user input\n",
    "start = int(input('enter start number '))\n",
    "end = int(input('enter end number '))\n",
    "for i in range(start,end+1):\n",
    "    print(i)"
   ]
  },
  {
   "cell_type": "code",
   "execution_count": 15,
   "id": "b65ac19d-4fb6-4132-89ea-9369b91236eb",
   "metadata": {},
   "outputs": [
    {
     "name": "stdout",
     "output_type": "stream",
     "text": [
      "1 2 3 4 5 6 7 8 9 10 11 12 13 14 15 16 17 18 19 "
     ]
    }
   ],
   "source": [
    "#end=' '\n",
    "for i in range(1,20):\n",
    "    print(i,end=' ')"
   ]
  },
  {
   "cell_type": "code",
   "execution_count": 17,
   "id": "3f7cd352-fd21-4def-8ad6-b53910cbd0ee",
   "metadata": {},
   "outputs": [
    {
     "name": "stdout",
     "output_type": "stream",
     "text": [
      "1\n",
      "2\n",
      "3\n",
      "4\n",
      "5\n",
      "6\n",
      "7\n",
      "8\n",
      "9\n",
      "10\n"
     ]
    }
   ],
   "source": [
    "# while loop \n",
    "\n",
    "# start point\n",
    "# end point\n",
    "# output\n",
    "# +/-\n",
    "i=1\n",
    "while(i<=10):\n",
    "    print(i)\n",
    "    i=i+1"
   ]
  },
  {
   "cell_type": "code",
   "execution_count": 19,
   "id": "231cef4c-d344-4aac-95e2-e61d0ec16cdd",
   "metadata": {},
   "outputs": [
    {
     "name": "stdout",
     "output_type": "stream",
     "text": [
      "welcome to codes with pankaj\n",
      "cwpc.in\n",
      "welcome to codes with pankaj\n",
      "cwpc.in\n"
     ]
    }
   ],
   "source": [
    "# function basic \n",
    "\n",
    "# def functionName():\n",
    "    # output\n",
    "\n",
    "def info():\n",
    "    print(\"welcome to codes with pankaj\")\n",
    "    print(\"cwpc.in\")\n",
    "\n",
    "# call the function\n",
    "info()\n",
    "info()     "
   ]
  },
  {
   "cell_type": "code",
   "execution_count": 21,
   "id": "d16cd974-d60c-4e08-94ce-4ed381f27414",
   "metadata": {},
   "outputs": [
    {
     "name": "stdout",
     "output_type": "stream",
     "text": [
      "1267\n"
     ]
    }
   ],
   "source": [
    "# with arg\n",
    "\n",
    "def add(num1,num2):\n",
    "    print(num1+num2)\n",
    "\n",
    "add(1200,67)    "
   ]
  },
  {
   "cell_type": "code",
   "execution_count": 23,
   "id": "39278119-061e-4cc3-a5ad-f5e8c67486ef",
   "metadata": {},
   "outputs": [
    {
     "name": "stdout",
     "output_type": "stream",
     "text": [
      "this is number :  900\n"
     ]
    }
   ],
   "source": [
    "# return type\n",
    "\n",
    "def get_number():\n",
    "    return 900\n",
    "\n",
    "print(\"this is number : \",get_number())"
   ]
  },
  {
   "cell_type": "code",
   "execution_count": 25,
   "id": "814acda7-f51b-433e-848d-25eddbc6b6af",
   "metadata": {},
   "outputs": [
    {
     "name": "stdout",
     "output_type": "stream",
     "text": [
      " this is main result  1416.0\n"
     ]
    }
   ],
   "source": [
    "# return type and with arg\n",
    "\n",
    "def get_result(total,per):\n",
    "    f_total = total*per/100\n",
    "    f_total = total+ f_total\n",
    "    return f_total\n",
    "final = get_result(1200,18)\n",
    "\n",
    "m_final = 345 + final\n",
    "print(' this is main result ',final)    \n",
    "    "
   ]
  }
 ],
 "metadata": {
  "kernelspec": {
   "display_name": "Python 3 (ipykernel)",
   "language": "python",
   "name": "python3"
  },
  "language_info": {
   "codemirror_mode": {
    "name": "ipython",
    "version": 3
   },
   "file_extension": ".py",
   "mimetype": "text/x-python",
   "name": "python",
   "nbconvert_exporter": "python",
   "pygments_lexer": "ipython3",
   "version": "3.12.7"
  }
 },
 "nbformat": 4,
 "nbformat_minor": 5
}

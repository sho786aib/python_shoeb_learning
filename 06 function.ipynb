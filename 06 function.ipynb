{
 "cells": [
  {
   "cell_type": "code",
   "execution_count": 8,
   "metadata": {},
   "outputs": [
    {
     "name": "stdout",
     "output_type": "stream",
     "text": [
      "welcome to codewithpankaj.com\n",
      "this is a basic function\n",
      "welcome to codewithpankaj.com\n",
      "this is a basic function\n"
     ]
    }
   ],
   "source": [
    "# function in python\n",
    "# basic function\n",
    "\n",
    "def greet():\n",
    "    print(\"welcome to codewithpankaj.com\")\n",
    "    print(\"this is a basic function\")\n",
    "    \n",
    "    # calling the function\n",
    "greet()\n",
    "greet()"
   ]
  },
  {
   "cell_type": "code",
   "execution_count": 10,
   "metadata": {},
   "outputs": [
    {
     "name": "stdout",
     "output_type": "stream",
     "text": [
      "Result: 30\n",
      "Result: 300\n"
     ]
    }
   ],
   "source": [
    "# function with parameters(arguments)\n",
    "\n",
    "def addition(number1,number2):\n",
    "    result=number1+number2\n",
    "    print(\"Result:\",result)\n",
    "    \n",
    "# calling the function with arguments\n",
    "addition(10,20)\n",
    "addition(100,200)    "
   ]
  },
  {
   "cell_type": "code",
   "execution_count": 2,
   "metadata": {},
   "outputs": [],
   "source": [
    "# example\n",
    "def bill(price,tax):\n",
    "    tax_amount=price*tax/100\n",
    "    total=price+tax_amount\n",
    "    print(\"----bill----\")\n",
    "    print(\"price:\",price)\n",
    "    print(\"tax:\",tax)\n",
    "    print(\"tax_amount:\",tax_amount)\n",
    "    print(\"total:\",total)"
   ]
  },
  {
   "cell_type": "code",
   "execution_count": 3,
   "metadata": {},
   "outputs": [
    {
     "name": "stdout",
     "output_type": "stream",
     "text": [
      "----bill----\n",
      "price: 1200\n",
      "tax: 18\n",
      "tax_amount: 216.0\n",
      "total: 1416.0\n",
      "----bill----\n",
      "price: 4500\n",
      "tax: 15\n",
      "tax_amount: 675.0\n",
      "total: 5175.0\n",
      "----bill----\n",
      "price: 8700\n",
      "tax: 25\n",
      "tax_amount: 2175.0\n",
      "total: 10875.0\n"
     ]
    }
   ],
   "source": [
    "bill(1200,18)\n",
    "bill(4500,15)\n",
    "bill(8700,25)"
   ]
  },
  {
   "cell_type": "code",
   "execution_count": 4,
   "metadata": {},
   "outputs": [
    {
     "name": "stdout",
     "output_type": "stream",
     "text": [
      "Number is: 20\n"
     ]
    }
   ],
   "source": [
    "# function with return\n",
    "def get_number():\n",
    "    return 10*2\n",
    "\n",
    "number=get_number()\n",
    "print(\"Number is:\",number)"
   ]
  },
  {
   "cell_type": "code",
   "execution_count": 5,
   "metadata": {},
   "outputs": [
    {
     "name": "stdout",
     "output_type": "stream",
     "text": [
      "Result of multiplicationis: 200\n"
     ]
    }
   ],
   "source": [
    "# function with return type and parameters\n",
    "\n",
    "def multiply(number1,number2):\n",
    "    return number1*number2\n",
    "result=multiply(10,20)\n",
    "print(\"Result of multiplicationis:\",result)\n"
   ]
  },
  {
   "cell_type": "code",
   "execution_count": 11,
   "metadata": {},
   "outputs": [
    {
     "name": "stdout",
     "output_type": "stream",
     "text": [
      "Total price before tax is: 1180.0\n",
      "Total price after tax is: 1156.4\n"
     ]
    }
   ],
   "source": [
    "# example\n",
    "def MRP(price,tax):\n",
    "    tax_amount=price*tax/100\n",
    "    total=price+tax_amount\n",
    "    return total\n",
    "total_price=MRP(1000,18)\n",
    "#before discount\n",
    "print(\"Total price before tax is:\",total_price)\n",
    "#add 2% discount\n",
    "total_price-=total_price*0.02\n",
    "print(\"Total price after tax is:\",total_price)"
   ]
  }
 ],
 "metadata": {
  "kernelspec": {
   "display_name": "base",
   "language": "python",
   "name": "python3"
  },
  "language_info": {
   "codemirror_mode": {
    "name": "ipython",
    "version": 3
   },
   "file_extension": ".py",
   "mimetype": "text/x-python",
   "name": "python",
   "nbconvert_exporter": "python",
   "pygments_lexer": "ipython3",
   "version": "3.9.13"
  }
 },
 "nbformat": 4,
 "nbformat_minor": 2
}

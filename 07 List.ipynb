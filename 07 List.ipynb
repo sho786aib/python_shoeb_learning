{
 "cells": [
  {
   "cell_type": "code",
   "execution_count": 1,
   "metadata": {},
   "outputs": [],
   "source": [
    "# list in python\n",
    "\n",
    "#int type list\n",
    "int_list = [1, 2, 3, 4, 5]\n",
    "#float type list\n",
    "float_list = [1.1, 2.2, 3.3, 4.4, 5.5]\n",
    "#string type list\n",
    "string_list = [\"apple\", \"banana\", \"cherry\", \"date\", \"elderberry\"]\n",
    "#mixed type list\n",
    "mixed_list = [1, 2.2, \"three\", \"four\", 5]"
   ]
  },
  {
   "cell_type": "code",
   "execution_count": 3,
   "metadata": {},
   "outputs": [
    {
     "name": "stdout",
     "output_type": "stream",
     "text": [
      "88\n",
      "55\n"
     ]
    }
   ],
   "source": [
    "# List :\n",
    "# accessing elements\n",
    "data = [22,33,44,55,66,77,88,99]\n",
    "\n",
    "print(data[6])\n",
    "print(data[3])\n",
    "\n"
   ]
  },
  {
   "cell_type": "code",
   "execution_count": 4,
   "metadata": {},
   "outputs": [
    {
     "name": "stdout",
     "output_type": "stream",
     "text": [
      "[55, 66, 77]\n",
      "[55, 66, 77, 88, 99]\n",
      "[22, 33, 44, 55, 66, 77]\n",
      "[22, 33, 44, 55, 66, 77, 88, 99]\n"
     ]
    }
   ],
   "source": [
    "# slicing\n",
    "print(data[3:6])\n",
    "print(data[3:])\n",
    "print(data[:6])\n",
    "print(data[:])\n"
   ]
  },
  {
   "cell_type": "code",
   "execution_count": 6,
   "metadata": {},
   "outputs": [
    {
     "name": "stdout",
     "output_type": "stream",
     "text": [
      "[22, 33, 44, 55, 66, 999, 77, 88, 99]\n"
     ]
    }
   ],
   "source": [
    "# methods\n",
    "# adding elements\n",
    "data = [22,33,44,55,66,77,88,99]\n",
    "data.insert(5,999)\n",
    "print(data)\n"
   ]
  },
  {
   "cell_type": "code",
   "execution_count": 7,
   "metadata": {},
   "outputs": [
    {
     "name": "stdout",
     "output_type": "stream",
     "text": [
      "[22, 33, 44, 55, 66, 999, 77, 88, 99, 11, 12, 13]\n"
     ]
    }
   ],
   "source": [
    "new_data = [11, 12, 13]\n",
    "# extending the list\n",
    "data.extend(new_data)\n",
    "print(data)"
   ]
  },
  {
   "cell_type": "code",
   "execution_count": 8,
   "metadata": {},
   "outputs": [
    {
     "name": "stdout",
     "output_type": "stream",
     "text": [
      "[22, 33, 44, 55, 66, 999, 77, 88, 99, 11, 12, 13, 1000]\n"
     ]
    }
   ],
   "source": [
    "# appending an element\n",
    "data.append(1000)\n",
    "print(data)"
   ]
  },
  {
   "cell_type": "code",
   "execution_count": 11,
   "metadata": {},
   "outputs": [
    {
     "name": "stdout",
     "output_type": "stream",
     "text": [
      "[22, [990, 888, 777], [990, 888, 777], [990, 888, 777], 33, 44, 55, 66, 999, 77, 88, 99, 11, 12, 13, 1000]\n",
      "888\n"
     ]
    }
   ],
   "source": [
    "d = [990,888,777]\n",
    "data.insert(1,d)\n",
    "print(data)\n",
    "print(data[1][1])"
   ]
  },
  {
   "cell_type": "code",
   "execution_count": 12,
   "metadata": {},
   "outputs": [
    {
     "name": "stdout",
     "output_type": "stream",
     "text": [
      "[22, 33, 44, 66, 77, 88, 99]\n"
     ]
    }
   ],
   "source": [
    "# removing elements\n",
    "data = [22,33, 44, 55, 66, 77, 88, 99]\n",
    "data.remove(55)  # Remove the first occurrence of 55\n",
    "print(data)"
   ]
  },
  {
   "cell_type": "code",
   "execution_count": 24,
   "metadata": {},
   "outputs": [
    {
     "name": "stdout",
     "output_type": "stream",
     "text": [
      "[11, 44, 77, 99]\n"
     ]
    }
   ],
   "source": [
    "# removing elements\n",
    "data = [11,44,55,77,99,]\n",
    "data.remove(55)  # Remove the first occurrence of 55\n",
    "print(data)"
   ]
  },
  {
   "cell_type": "code",
   "execution_count": 26,
   "metadata": {},
   "outputs": [
    {
     "name": "stdout",
     "output_type": "stream",
     "text": [
      "Popped element: 99\n"
     ]
    }
   ],
   "source": [
    "# popping elements\n",
    "popped_element = data.pop()  # Remove and return the last element\n",
    "print(\"Popped element:\", popped_element)"
   ]
  },
  {
   "cell_type": "code",
   "execution_count": 27,
   "metadata": {},
   "outputs": [
    {
     "name": "stdout",
     "output_type": "stream",
     "text": [
      "[22, 33, 44, 66, 77, 88]\n"
     ]
    }
   ],
   "source": [
    "print(data)"
   ]
  },
  {
   "cell_type": "code",
   "execution_count": 28,
   "metadata": {},
   "outputs": [
    {
     "name": "stdout",
     "output_type": "stream",
     "text": [
      "Sum of elements: 330\n",
      "Minimum value: 22\n",
      "Maximum value: 88\n",
      "Length of the list: 6\n",
      "Sorted list: [22, 33, 44, 66, 77, 88]\n",
      "Reversed list: [88, 77, 66, 44, 33, 22]\n"
     ]
    }
   ],
   "source": [
    "# sum()\n",
    "total_sum = sum(data)\n",
    "print(\"Sum of elements:\", total_sum)\n",
    "# min() and max()\n",
    "min_value = min(data)\n",
    "max_value = max(data)\n",
    "print(\"Minimum value:\", min_value)\n",
    "print(\"Maximum value:\", max_value)\n",
    "# length of the list\n",
    "length_of_data = len(data)\n",
    "print(\"Length of the list:\", length_of_data)\n",
    "# sorting the list\n",
    "data.sort()\n",
    "print(\"Sorted list:\", data)\n",
    "# reversing the list\n",
    "data.reverse()\n",
    "print(\"Reversed list:\", data)"
   ]
  },
  {
   "cell_type": "code",
   "execution_count": 29,
   "metadata": {},
   "outputs": [
    {
     "name": "stdout",
     "output_type": "stream",
     "text": [
      "88\n",
      "77\n",
      "66\n",
      "44\n",
      "33\n",
      "22\n"
     ]
    }
   ],
   "source": [
    "# for loop\n",
    "for i in data:\n",
    "    print(i)\n"
   ]
  },
  {
   "cell_type": "code",
   "execution_count": 32,
   "metadata": {},
   "outputs": [
    {
     "name": "stdout",
     "output_type": "stream",
     "text": [
      "jalebi\n",
      "samosa\n",
      "vada\n"
     ]
    }
   ],
   "source": [
    "# how to take user input in a list\n",
    "\n",
    "size = int(input(\"Enter the size of the list:\"))\n",
    "food = []\n",
    "for i in range(size):\n",
    "    item = input(\"Enter food item:\")\n",
    "    food.append(item)\n",
    "for item in food:\n",
    "    print(item)    "
   ]
  }
 ],
 "metadata": {
  "kernelspec": {
   "display_name": "base",
   "language": "python",
   "name": "python3"
  },
  "language_info": {
   "codemirror_mode": {
    "name": "ipython",
    "version": 3
   },
   "file_extension": ".py",
   "mimetype": "text/x-python",
   "name": "python",
   "nbconvert_exporter": "python",
   "pygments_lexer": "ipython3",
   "version": "3.9.13"
  }
 },
 "nbformat": 4,
 "nbformat_minor": 2
}
